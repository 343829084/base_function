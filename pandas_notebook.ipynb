{
 "cells": [
  {
   "cell_type": "code",
   "execution_count": 1,
   "metadata": {},
   "outputs": [],
   "source": [
    "import pandas as pd"
   ]
  },
  {
   "cell_type": "code",
   "execution_count": 23,
   "metadata": {},
   "outputs": [
    {
     "name": "stdout",
     "output_type": "stream",
     "text": [
      "   A   B\n",
      "0  1   7\n",
      "1  2   8\n",
      "2  3   9\n",
      "3  4  10\n",
      "4  5  11\n"
     ]
    }
   ],
   "source": [
    "dict_A={\"A\":[1,2,3,4,5],\"B\":[7,8,9,10,11]}\n",
    "df=pd.DataFrame(dict_A)\n",
    "print df"
   ]
  },
  {
   "cell_type": "code",
   "execution_count": 25,
   "metadata": {},
   "outputs": [
    {
     "name": "stdout",
     "output_type": "stream",
     "text": [
      "   A   B  C  D\n",
      "0  1   7  2  7\n",
      "1  2   8  3  8\n",
      "2  3   9  4  7\n",
      "3  4  10  5  6\n",
      "4  5  11  6  5\n",
      "['A', 'B', 'C', 'D']\n"
     ]
    }
   ],
   "source": [
    "df['C']=[2,3,4,5,6]\n",
    "df['D']=[7,8,7,6,5]\n",
    "print df\n",
    "my_df = list(df)\n",
    "print my_df"
   ]
  },
  {
   "cell_type": "code",
   "execution_count": 8,
   "metadata": {},
   "outputs": [
    {
     "data": {
      "text/plain": [
       "['A', 'B', 'C', 'D']"
      ]
     },
     "execution_count": 8,
     "metadata": {},
     "output_type": "execute_result"
    }
   ],
   "source": [
    "cols=list(df)\n",
    "cols"
   ]
  },
  {
   "cell_type": "code",
   "execution_count": 12,
   "metadata": {},
   "outputs": [
    {
     "data": {
      "text/plain": [
       "['C', 'A', 'B', 'D']"
      ]
     },
     "execution_count": 12,
     "metadata": {},
     "output_type": "execute_result"
    }
   ],
   "source": [
    "cols.index('C')\n",
    "cols.insert(0,cols.pop(cols.index('C')))\n",
    "cols"
   ]
  },
  {
   "cell_type": "code",
   "execution_count": 21,
   "metadata": {},
   "outputs": [
    {
     "name": "stderr",
     "output_type": "stream",
     "text": [
      "/usr/local/lib/python2.7/dist-packages/ipykernel_launcher.py:2: DeprecationWarning: \n",
      ".ix is deprecated. Please use\n",
      ".loc for label based indexing or\n",
      ".iloc for positional indexing\n",
      "\n",
      "See the documentation here:\n",
      "http://pandas.pydata.org/pandas-docs/stable/indexing.html#ix-indexer-is-deprecated\n",
      "  \n"
     ]
    }
   ],
   "source": [
    "cols\n",
    "df=df.ix[:,cols]"
   ]
  },
  {
   "cell_type": "code",
   "execution_count": 27,
   "metadata": {},
   "outputs": [
    {
     "data": {
      "text/html": [
       "<div>\n",
       "<style scoped>\n",
       "    .dataframe tbody tr th:only-of-type {\n",
       "        vertical-align: middle;\n",
       "    }\n",
       "\n",
       "    .dataframe tbody tr th {\n",
       "        vertical-align: top;\n",
       "    }\n",
       "\n",
       "    .dataframe thead th {\n",
       "        text-align: right;\n",
       "    }\n",
       "</style>\n",
       "<table border=\"1\" class=\"dataframe\">\n",
       "  <thead>\n",
       "    <tr style=\"text-align: right;\">\n",
       "      <th></th>\n",
       "      <th>B</th>\n",
       "      <th>A</th>\n",
       "      <th>D</th>\n",
       "      <th>C</th>\n",
       "    </tr>\n",
       "  </thead>\n",
       "  <tbody>\n",
       "    <tr>\n",
       "      <th>0</th>\n",
       "      <td>7</td>\n",
       "      <td>1</td>\n",
       "      <td>7</td>\n",
       "      <td>2</td>\n",
       "    </tr>\n",
       "    <tr>\n",
       "      <th>1</th>\n",
       "      <td>8</td>\n",
       "      <td>2</td>\n",
       "      <td>8</td>\n",
       "      <td>3</td>\n",
       "    </tr>\n",
       "    <tr>\n",
       "      <th>2</th>\n",
       "      <td>9</td>\n",
       "      <td>3</td>\n",
       "      <td>7</td>\n",
       "      <td>4</td>\n",
       "    </tr>\n",
       "    <tr>\n",
       "      <th>3</th>\n",
       "      <td>10</td>\n",
       "      <td>4</td>\n",
       "      <td>6</td>\n",
       "      <td>5</td>\n",
       "    </tr>\n",
       "    <tr>\n",
       "      <th>4</th>\n",
       "      <td>11</td>\n",
       "      <td>5</td>\n",
       "      <td>5</td>\n",
       "      <td>6</td>\n",
       "    </tr>\n",
       "  </tbody>\n",
       "</table>\n",
       "</div>"
      ],
      "text/plain": [
       "    B  A  D  C\n",
       "0   7  1  7  2\n",
       "1   8  2  8  3\n",
       "2   9  3  7  4\n",
       "3  10  4  6  5\n",
       "4  11  5  5  6"
      ]
     },
     "execution_count": 27,
     "metadata": {},
     "output_type": "execute_result"
    }
   ],
   "source": [
    "df[['B','A','D','C']]"
   ]
  },
  {
   "cell_type": "code",
   "execution_count": 1,
   "metadata": {},
   "outputs": [],
   "source": [
    "import tushare as ts\n",
    "api=ts.get_apis()\n",
    "df=ts.bar('300333',conn=api,start_date='2018-01-01')"
   ]
  },
  {
   "cell_type": "code",
   "execution_count": 2,
   "metadata": {},
   "outputs": [
    {
     "data": {
      "text/html": [
       "<div>\n",
       "<style scoped>\n",
       "    .dataframe tbody tr th:only-of-type {\n",
       "        vertical-align: middle;\n",
       "    }\n",
       "\n",
       "    .dataframe tbody tr th {\n",
       "        vertical-align: top;\n",
       "    }\n",
       "\n",
       "    .dataframe thead th {\n",
       "        text-align: right;\n",
       "    }\n",
       "</style>\n",
       "<table border=\"1\" class=\"dataframe\">\n",
       "  <thead>\n",
       "    <tr style=\"text-align: right;\">\n",
       "      <th></th>\n",
       "      <th>code</th>\n",
       "      <th>open</th>\n",
       "      <th>close</th>\n",
       "      <th>high</th>\n",
       "      <th>low</th>\n",
       "      <th>vol</th>\n",
       "      <th>amount</th>\n",
       "    </tr>\n",
       "    <tr>\n",
       "      <th>datetime</th>\n",
       "      <th></th>\n",
       "      <th></th>\n",
       "      <th></th>\n",
       "      <th></th>\n",
       "      <th></th>\n",
       "      <th></th>\n",
       "      <th></th>\n",
       "    </tr>\n",
       "  </thead>\n",
       "  <tbody>\n",
       "    <tr>\n",
       "      <th>2018-04-03</th>\n",
       "      <td>300333</td>\n",
       "      <td>8.51</td>\n",
       "      <td>8.54</td>\n",
       "      <td>8.63</td>\n",
       "      <td>8.32</td>\n",
       "      <td>119882.0</td>\n",
       "      <td>101666248.0</td>\n",
       "    </tr>\n",
       "    <tr>\n",
       "      <th>2018-04-02</th>\n",
       "      <td>300333</td>\n",
       "      <td>8.60</td>\n",
       "      <td>8.71</td>\n",
       "      <td>8.88</td>\n",
       "      <td>8.41</td>\n",
       "      <td>193946.0</td>\n",
       "      <td>167833136.0</td>\n",
       "    </tr>\n",
       "    <tr>\n",
       "      <th>2018-03-30</th>\n",
       "      <td>300333</td>\n",
       "      <td>8.20</td>\n",
       "      <td>8.52</td>\n",
       "      <td>8.72</td>\n",
       "      <td>8.10</td>\n",
       "      <td>161526.0</td>\n",
       "      <td>135846832.0</td>\n",
       "    </tr>\n",
       "    <tr>\n",
       "      <th>2018-03-29</th>\n",
       "      <td>300333</td>\n",
       "      <td>8.05</td>\n",
       "      <td>8.13</td>\n",
       "      <td>8.40</td>\n",
       "      <td>8.05</td>\n",
       "      <td>91807.0</td>\n",
       "      <td>75197824.0</td>\n",
       "    </tr>\n",
       "    <tr>\n",
       "      <th>2018-03-28</th>\n",
       "      <td>300333</td>\n",
       "      <td>7.80</td>\n",
       "      <td>8.04</td>\n",
       "      <td>8.28</td>\n",
       "      <td>7.75</td>\n",
       "      <td>117111.0</td>\n",
       "      <td>94619512.0</td>\n",
       "    </tr>\n",
       "  </tbody>\n",
       "</table>\n",
       "</div>"
      ],
      "text/plain": [
       "              code  open  close  high   low       vol       amount\n",
       "datetime                                                          \n",
       "2018-04-03  300333  8.51   8.54  8.63  8.32  119882.0  101666248.0\n",
       "2018-04-02  300333  8.60   8.71  8.88  8.41  193946.0  167833136.0\n",
       "2018-03-30  300333  8.20   8.52  8.72  8.10  161526.0  135846832.0\n",
       "2018-03-29  300333  8.05   8.13  8.40  8.05   91807.0   75197824.0\n",
       "2018-03-28  300333  7.80   8.04  8.28  7.75  117111.0   94619512.0"
      ]
     },
     "execution_count": 2,
     "metadata": {},
     "output_type": "execute_result"
    }
   ],
   "source": [
    "df.head()"
   ]
  },
  {
   "cell_type": "code",
   "execution_count": 5,
   "metadata": {},
   "outputs": [
    {
     "data": {
      "text/plain": [
       "array(['2018-04-03T00:00:00.000000000', '2018-04-02T00:00:00.000000000',\n",
       "       '2018-03-30T00:00:00.000000000', '2018-03-29T00:00:00.000000000',\n",
       "       '2018-03-28T00:00:00.000000000', '2018-03-27T00:00:00.000000000',\n",
       "       '2018-03-26T00:00:00.000000000', '2018-03-23T00:00:00.000000000',\n",
       "       '2018-03-22T00:00:00.000000000', '2018-03-21T00:00:00.000000000',\n",
       "       '2018-03-20T00:00:00.000000000', '2018-03-19T00:00:00.000000000',\n",
       "       '2018-03-16T00:00:00.000000000', '2018-03-15T00:00:00.000000000',\n",
       "       '2018-03-14T00:00:00.000000000', '2018-03-13T00:00:00.000000000',\n",
       "       '2018-03-12T00:00:00.000000000', '2018-03-09T00:00:00.000000000',\n",
       "       '2018-03-08T00:00:00.000000000', '2018-03-07T00:00:00.000000000',\n",
       "       '2018-03-06T00:00:00.000000000', '2018-03-05T00:00:00.000000000',\n",
       "       '2018-03-02T00:00:00.000000000', '2018-03-01T00:00:00.000000000',\n",
       "       '2018-02-28T00:00:00.000000000', '2018-02-27T00:00:00.000000000',\n",
       "       '2018-02-26T00:00:00.000000000', '2018-02-23T00:00:00.000000000',\n",
       "       '2018-02-22T00:00:00.000000000', '2018-02-14T00:00:00.000000000',\n",
       "       '2018-02-13T00:00:00.000000000', '2018-02-12T00:00:00.000000000',\n",
       "       '2018-02-09T00:00:00.000000000', '2018-02-08T00:00:00.000000000',\n",
       "       '2018-02-07T00:00:00.000000000', '2018-02-06T00:00:00.000000000',\n",
       "       '2018-02-05T00:00:00.000000000', '2018-02-02T00:00:00.000000000',\n",
       "       '2018-02-01T00:00:00.000000000', '2018-01-31T00:00:00.000000000',\n",
       "       '2018-01-30T00:00:00.000000000', '2018-01-29T00:00:00.000000000',\n",
       "       '2018-01-26T00:00:00.000000000', '2018-01-25T00:00:00.000000000',\n",
       "       '2018-01-24T00:00:00.000000000', '2018-01-23T00:00:00.000000000',\n",
       "       '2018-01-22T00:00:00.000000000', '2018-01-19T00:00:00.000000000',\n",
       "       '2018-01-18T00:00:00.000000000', '2018-01-17T00:00:00.000000000',\n",
       "       '2018-01-16T00:00:00.000000000', '2018-01-15T00:00:00.000000000',\n",
       "       '2018-01-12T00:00:00.000000000', '2018-01-11T00:00:00.000000000',\n",
       "       '2018-01-10T00:00:00.000000000', '2018-01-09T00:00:00.000000000',\n",
       "       '2018-01-08T00:00:00.000000000', '2018-01-05T00:00:00.000000000',\n",
       "       '2018-01-04T00:00:00.000000000', '2018-01-03T00:00:00.000000000',\n",
       "       '2018-01-02T00:00:00.000000000'], dtype='datetime64[ns]')"
      ]
     },
     "execution_count": 5,
     "metadata": {},
     "output_type": "execute_result"
    }
   ],
   "source": [
    "df.reset_index()['datetime'].values"
   ]
  },
  {
   "cell_type": "code",
   "execution_count": null,
   "metadata": {},
   "outputs": [],
   "source": []
  }
 ],
 "metadata": {
  "kernelspec": {
   "display_name": "Python 2",
   "language": "python",
   "name": "python2"
  },
  "language_info": {
   "codemirror_mode": {
    "name": "ipython",
    "version": 2
   },
   "file_extension": ".py",
   "mimetype": "text/x-python",
   "name": "python",
   "nbconvert_exporter": "python",
   "pygments_lexer": "ipython2",
   "version": "2.7.13"
  }
 },
 "nbformat": 4,
 "nbformat_minor": 2
}
