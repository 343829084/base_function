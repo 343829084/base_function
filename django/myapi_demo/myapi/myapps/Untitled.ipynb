{
 "cells": [
  {
   "cell_type": "code",
   "execution_count": 1,
   "metadata": {},
   "outputs": [],
   "source": [
    "from fetch_content import crawl"
   ]
  },
  {
   "cell_type": "code",
   "execution_count": 4,
   "metadata": {},
   "outputs": [],
   "source": [
    "from lxml import etree"
   ]
  },
  {
   "cell_type": "code",
   "execution_count": 2,
   "metadata": {},
   "outputs": [],
   "source": [
    "response = crawl('格力')"
   ]
  },
  {
   "cell_type": "code",
   "execution_count": 5,
   "metadata": {},
   "outputs": [],
   "source": [
    "t = etree.HTML(response.text)"
   ]
  },
  {
   "cell_type": "code",
   "execution_count": 17,
   "metadata": {},
   "outputs": [
    {
     "data": {
      "text/plain": [
       "['产品质量监督抽查信息公众服务平台']"
      ]
     },
     "execution_count": 17,
     "metadata": {},
     "output_type": "execute_result"
    }
   ],
   "source": [
    "t.xpath('//title/text()')"
   ]
  },
  {
   "cell_type": "code",
   "execution_count": 26,
   "metadata": {},
   "outputs": [
    {
     "name": "stdout",
     "output_type": "stream",
     "text": [
      "1\n",
      "制造商：珠海格力电器股份有限公司                          生产厂：石家庄格力电器小家电有限公司\n",
      "河北省\n",
      "电热水壶\n",
      "液体加热器（电水壶）\n",
      "GK-1712S\n",
      "\n",
      "21806855\n",
      "合格\n",
      "\n",
      "2\n",
      "天津市格力斯家具有限公司\n",
      "天津市\n",
      "软体沙发\n",
      "软体沙发\n",
      "BM022\n",
      "\n",
      "2017-08-02\n",
      "合格\n",
      "\n",
      "3\n",
      "制造商：珠海格力电器股份有限公司                      生产厂：格力电器（中山）小家电制造有限公司\n",
      "广东省\n",
      "电饭锅\n",
      "电饭煲\n",
      "GDF-3008D 600W\n",
      "\n",
      "2017-01-16\n",
      "合格\n",
      "\n",
      "4\n",
      "珠海格力电器股份有限公司\n",
      "广东省\n",
      "房间空气调节器\n",
      "分体冷风型挂壁式房间空调器\n",
      "KF-35GW/(35392)NhAa-3\n",
      "\n",
      "2017-05\n",
      "合格\n",
      "\n",
      "5\n",
      "制造商：珠海格力电器股份有限公司                            生产厂：格力电器（中山）小家电制造有限公司\n",
      "广东省\n",
      "室内加热器\n",
      "电暖器\n",
      "NST-8  800W\n",
      "\n",
      "12806450\n",
      "合格\n",
      "\n",
      "6\n",
      "制造商：珠海格力电器股份有限公司                       生产厂：石家庄格力电器小家电有限公司\n",
      "河北省\n",
      "吸油烟机\n",
      "吸油烟机\n",
      "CXW-200-CCS01 203W\n",
      "\n",
      "2016-01\n",
      "合格\n",
      "\n",
      "7\n",
      "珠海格力电器股份有限公司\n",
      "广东省\n",
      "热泵热水机\n",
      "热泵热水器\n",
      "外机KFRS-5.0J/B-3 水箱SXT300LCJW/A-3 300L\n",
      "\n",
      "2017-03\n",
      "合格\n",
      "\n",
      "8\n",
      "制造商：珠海格力电器股份有限公司                       生产厂：石家庄格力电器小家电有限公司\n",
      "\n",
      "室内加热器\n",
      "电暖器\n",
      "NSJ-8  800W\n",
      "\n",
      "90806050\n",
      "合格\n",
      "\n",
      "9\n",
      "天津市格力斯家具有限公司\n",
      "天津市\n",
      "软体沙发\n",
      "沙发\n",
      "单人\n",
      "\n",
      "2016-07-26\n",
      "合格\n",
      "\n",
      "10\n",
      "珠海格力电器股份有限公司\n",
      "广东省\n",
      "电饭锅\n",
      "电饭煲\n",
      "GDF-3008D\n",
      "\n",
      "37X1511\n",
      "合格\n",
      "\n"
     ]
    }
   ],
   "source": [
    "for i in t.xpath('//table[@id=\"scroll_bar\"]//tr'):\n",
    "    for j in range(10):\n",
    "        print(i.xpath('.//td')[j].xpath('.//text()')[0].strip())\n",
    "\n",
    "    "
   ]
  }
 ],
 "metadata": {
  "kernelspec": {
   "display_name": "Python 3",
   "language": "python",
   "name": "python3"
  },
  "language_info": {
   "codemirror_mode": {
    "name": "ipython",
    "version": 3
   },
   "file_extension": ".py",
   "mimetype": "text/x-python",
   "name": "python",
   "nbconvert_exporter": "python",
   "pygments_lexer": "ipython3",
   "version": "3.6.2"
  }
 },
 "nbformat": 4,
 "nbformat_minor": 2
}
