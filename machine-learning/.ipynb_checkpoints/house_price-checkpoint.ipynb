{
 "cells": [
  {
   "cell_type": "code",
   "execution_count": 79,
   "metadata": {},
   "outputs": [],
   "source": [
    "# 第一章 监督学习\n",
    "%matplotlib inline\n",
    "import numpy as np\n",
    "\n",
    "from sklearn import datasets\n",
    "from sklearn.utils import shuffle\n",
    "# 决策树回归\n",
    "from sklearn.tree import DecisionTreeRegressor\n",
    "\n",
    "# AdaBoost 拟合优化\n",
    "from sklearn.ensemble import AdaBoostRegressor\n",
    "from sklearn.metrics import mean_squared_error,explained_variance_score\n",
    "\n",
    "# 绘图曲线\n",
    "from plot_feature import plot_feature_importance\n",
    "\n",
    "# 随机森林\n",
    "from sklearn.ensemble import RandomForestRegressor"
   ]
  },
  {
   "cell_type": "code",
   "execution_count": 2,
   "metadata": {},
   "outputs": [],
   "source": [
    "house_data = datasets.load_boston()"
   ]
  },
  {
   "cell_type": "code",
   "execution_count": 3,
   "metadata": {},
   "outputs": [
    {
     "data": {
      "text/plain": [
       "sklearn.utils.Bunch"
      ]
     },
     "execution_count": 3,
     "metadata": {},
     "output_type": "execute_result"
    }
   ],
   "source": [
    "type(house_data)"
   ]
  },
  {
   "cell_type": "code",
   "execution_count": 4,
   "metadata": {},
   "outputs": [
    {
     "data": {
      "text/plain": [
       "array([[6.3200e-03, 1.8000e+01, 2.3100e+00, ..., 1.5300e+01, 3.9690e+02,\n",
       "        4.9800e+00],\n",
       "       [2.7310e-02, 0.0000e+00, 7.0700e+00, ..., 1.7800e+01, 3.9690e+02,\n",
       "        9.1400e+00],\n",
       "       [2.7290e-02, 0.0000e+00, 7.0700e+00, ..., 1.7800e+01, 3.9283e+02,\n",
       "        4.0300e+00],\n",
       "       ...,\n",
       "       [6.0760e-02, 0.0000e+00, 1.1930e+01, ..., 2.1000e+01, 3.9690e+02,\n",
       "        5.6400e+00],\n",
       "       [1.0959e-01, 0.0000e+00, 1.1930e+01, ..., 2.1000e+01, 3.9345e+02,\n",
       "        6.4800e+00],\n",
       "       [4.7410e-02, 0.0000e+00, 1.1930e+01, ..., 2.1000e+01, 3.9690e+02,\n",
       "        7.8800e+00]])"
      ]
     },
     "execution_count": 4,
     "metadata": {},
     "output_type": "execute_result"
    }
   ],
   "source": [
    "house_data.data"
   ]
  },
  {
   "cell_type": "code",
   "execution_count": 5,
   "metadata": {},
   "outputs": [],
   "source": [
    "X,y = shuffle(house_data.data,house_data.target,random_state=7)"
   ]
  },
  {
   "cell_type": "code",
   "execution_count": 6,
   "metadata": {},
   "outputs": [
    {
     "data": {
      "text/plain": [
       "array([[3.8497e+00, 0.0000e+00, 1.8100e+01, ..., 2.0200e+01, 3.9134e+02,\n",
       "        1.3270e+01],\n",
       "       [3.0410e-02, 0.0000e+00, 5.1900e+00, ..., 2.0200e+01, 3.9481e+02,\n",
       "        1.0560e+01],\n",
       "       [2.4103e-01, 0.0000e+00, 7.3800e+00, ..., 1.9600e+01, 3.9690e+02,\n",
       "        1.2790e+01],\n",
       "       ...,\n",
       "       [8.4054e-01, 0.0000e+00, 8.1400e+00, ..., 2.1000e+01, 3.0342e+02,\n",
       "        1.6510e+01],\n",
       "       [4.0110e-02, 8.0000e+01, 1.5200e+00, ..., 1.2600e+01, 3.9690e+02,\n",
       "        4.0800e+00],\n",
       "       [6.6640e-02, 0.0000e+00, 4.0500e+00, ..., 1.6600e+01, 3.9096e+02,\n",
       "        5.3300e+00]])"
      ]
     },
     "execution_count": 6,
     "metadata": {},
     "output_type": "execute_result"
    }
   ],
   "source": [
    "X"
   ]
  },
  {
   "cell_type": "code",
   "execution_count": 7,
   "metadata": {},
   "outputs": [
    {
     "data": {
      "text/plain": [
       "array([21.7, 18.5, 22.2, 20.4,  8.8,  8.3, 21.4, 23.6, 23.5, 19. , 10.2,\n",
       "       31.6, 18.4, 19.4, 44. , 23.2, 22. , 33.1, 13.2, 21.7, 16.7, 23.9,\n",
       "       42.3, 18.5, 14.6,  7.5, 33.4, 22. , 28.1, 24.8, 19.9, 24.8, 28.7,\n",
       "       14.1, 43.5, 20.4, 18.3, 13.4, 21. , 22. , 22.6, 13.9, 13.3, 26.5,\n",
       "       20. ,  9.5, 21.6, 22.6, 15.6, 23.1, 27.1, 25.2, 15. , 21.9,  9.6,\n",
       "       22.7, 18.3, 21.4, 20.5, 21.1, 24.5, 31. , 18.7, 18.7, 22.7, 50. ,\n",
       "       16.7, 23. , 20.4, 22.8, 24.8, 10.5, 18.2, 31.5, 23.8, 19.6, 12.7,\n",
       "       15.2, 31.2, 14.5, 17.8, 25. , 23. , 50. , 23.7, 25.1, 24.7, 16.8,\n",
       "       34.7, 23.3, 50. , 46.7, 43.1, 24.4, 24.1,  6.3, 26.4, 16.3, 17.2,\n",
       "       28. , 15.2, 16.6, 20.6, 16.4, 22. , 17.2, 13.5, 23.3, 26.2, 19.7,\n",
       "       13.1, 23.9, 18.2, 19.3,  7. , 18.5, 13.8, 33.4, 12.6, 19.6, 20.8,\n",
       "       25. , 21.7, 43.8, 13.4, 34.9, 24.5, 26.6, 36.5, 31.1, 22.6, 20.3,\n",
       "       18.4, 28.7, 23.1, 17.6, 35.4, 31.6,  8.5, 22.2, 10.4, 22.8, 23.9,\n",
       "       22.2, 32.9, 15.6, 29.8, 14.3, 28.4, 21.4, 23.1, 10.4, 20.1, 14.4,\n",
       "       14.9, 10.2, 20.8, 50. , 23.3, 25. , 23.7, 11.9, 23.9, 20.6, 23.8,\n",
       "       32. ,  8.3, 22.5, 37.2,  8.4, 23.4, 13.1, 17.8, 50. , 29.1, 19.4,\n",
       "       11.7, 30.1, 27.5, 26.7, 33.2, 33.1, 17.8, 19.9, 50. , 50. , 20. ,\n",
       "       22.5, 21. ,  7. ,  8.8, 19.8, 23.1, 23.4, 32.4, 20.1, 22.4, 42.8,\n",
       "       23.1, 16.1, 22. , 23.6, 10.9, 14. , 29.1, 18.6, 36. , 22.6, 17.4,\n",
       "       24.3, 41.3, 24.2, 18.4, 45.4, 21.2, 50. , 27.5, 16.5, 22.9, 18.6,\n",
       "       20.1, 41.7, 20.2, 24.6, 10.5, 13.6, 35.4, 32.2, 13.4, 25. , 13.5,\n",
       "       36.2, 26.4, 21.5, 22.5, 23.3, 27.9, 50. , 28.6, 38.7, 24. , 12.5,\n",
       "       16.1, 17. , 20.5, 18.7, 17.1, 32.7, 19.1, 19.8, 21.2, 20.6, 16. ,\n",
       "       19.5, 19.9, 21.4, 14.6, 12.7, 21.2, 14.2, 35.2, 27.5, 15.6, 23.1,\n",
       "       14.5, 16.8, 15.7, 17.5, 13.6, 29.9, 11.7, 13.3, 30.1, 24.1, 25. ,\n",
       "       20.9, 20. , 27. , 18.9, 11.8, 30.1, 16.2, 10.9, 18.9, 20.2, 23.2,\n",
       "       31.7, 21.7, 18. , 15.6, 20.1, 27.1, 21.9, 50. , 20.7, 16.5, 13.1,\n",
       "       14.8, 30.7, 33. , 20.9, 19.1, 19.4, 14.4, 24.4, 23.2, 21.6, 20.7,\n",
       "       22.8, 23. , 22.2, 28.4, 19.5,  8.1, 17.8, 21.2, 19.3, 50. ,  7.2,\n",
       "       19.2, 22.3, 20.8, 15.2, 25. ,  7.2, 11.5, 24.3, 20.3, 50. , 20.6,\n",
       "       34.9, 12.7, 20.3, 19.1, 14.3, 28.2, 17.7, 24.3, 26.6, 50. , 48.8,\n",
       "       17.1, 17.9, 20. , 15.1, 15. , 22.2, 11.9, 37.9, 19.5, 13. , 19.4,\n",
       "       11.3, 28.7, 17.5, 29. ,  8.5, 23.1, 19.5, 15.6,  5. , 37.6, 23.7,\n",
       "       37. , 15.4, 23.8, 46. , 21. , 22.3, 39.8, 27.5, 30.3, 20. , 18.1,\n",
       "       29.8, 14.1, 34.6, 13.8, 50. ,  7.4, 17.4, 22. , 21.1, 19.6, 30.8,\n",
       "       25. , 24.7, 18.9, 12. , 29. , 14.9, 36.1, 18.9, 16.2, 20.3, 33.2,\n",
       "       18.8, 13.4, 21.7, 18.5, 19.4, 13.8, 12.8, 20.4, 14.9, 21.7, 24.4,\n",
       "       16.6, 48.5, 11.8, 19.3, 19.6, 12.1, 22.9, 19.2, 21.8, 22.6, 31.5,\n",
       "       19.7, 20.1, 17.3, 13.1, 13.3, 36.2, 17.2, 18.2, 23. , 10.2, 22.4,\n",
       "        8.4, 17.8, 15.4, 44.8, 20.5, 13.8, 19.6, 25. , 19.8, 37.3, 48.3,\n",
       "       15. , 35.1, 21.7, 29.6, 22.9, 23.7, 26.6,  7.2, 13.8,  5.6, 36.4,\n",
       "       50. , 20.6, 19. , 21.8, 50. , 23.9, 17.1, 33.8, 24.7, 24.1, 19.9,\n",
       "       28.5, 14.1, 34.9, 24.8, 18.8,  8.7, 32.5, 15.3, 19.4, 24.6, 30.5,\n",
       "       21.2, 10.8, 32. , 22.9, 24.4, 22.1, 21.4, 24. , 11. , 23.2, 12.3,\n",
       "       16.1, 17.4, 19.1, 23.8,  9.7, 21.5, 25.3, 21.9, 17.5, 22.8, 14.5,\n",
       "        5. , 29.6, 24.5, 19.3, 27.9, 19.3, 22. , 20.6, 13.9, 33.3, 29.4])"
      ]
     },
     "execution_count": 7,
     "metadata": {},
     "output_type": "execute_result"
    }
   ],
   "source": [
    "y"
   ]
  },
  {
   "cell_type": "code",
   "execution_count": 8,
   "metadata": {},
   "outputs": [
    {
     "data": {
      "text/plain": [
       "506"
      ]
     },
     "execution_count": 8,
     "metadata": {},
     "output_type": "execute_result"
    }
   ],
   "source": [
    "len(y)"
   ]
  },
  {
   "cell_type": "code",
   "execution_count": 9,
   "metadata": {},
   "outputs": [
    {
     "data": {
      "text/plain": [
       "506"
      ]
     },
     "execution_count": 9,
     "metadata": {},
     "output_type": "execute_result"
    }
   ],
   "source": [
    "len(X)"
   ]
  },
  {
   "cell_type": "code",
   "execution_count": 10,
   "metadata": {},
   "outputs": [],
   "source": [
    "number_train = int(0.8*len(X))"
   ]
  },
  {
   "cell_type": "code",
   "execution_count": 11,
   "metadata": {},
   "outputs": [
    {
     "data": {
      "text/plain": [
       "404"
      ]
     },
     "execution_count": 11,
     "metadata": {},
     "output_type": "execute_result"
    }
   ],
   "source": [
    "number_train"
   ]
  },
  {
   "cell_type": "code",
   "execution_count": 12,
   "metadata": {},
   "outputs": [],
   "source": [
    "X_train,y_train =X[:number_train],y[:number_train]"
   ]
  },
  {
   "cell_type": "code",
   "execution_count": 13,
   "metadata": {},
   "outputs": [
    {
     "data": {
      "text/plain": [
       "array([[3.8497e+00, 0.0000e+00, 1.8100e+01, ..., 2.0200e+01, 3.9134e+02,\n",
       "        1.3270e+01],\n",
       "       [3.0410e-02, 0.0000e+00, 5.1900e+00, ..., 2.0200e+01, 3.9481e+02,\n",
       "        1.0560e+01],\n",
       "       [2.4103e-01, 0.0000e+00, 7.3800e+00, ..., 1.9600e+01, 3.9690e+02,\n",
       "        1.2790e+01],\n",
       "       ...,\n",
       "       [8.4054e-01, 0.0000e+00, 8.1400e+00, ..., 2.1000e+01, 3.0342e+02,\n",
       "        1.6510e+01],\n",
       "       [4.0110e-02, 8.0000e+01, 1.5200e+00, ..., 1.2600e+01, 3.9690e+02,\n",
       "        4.0800e+00],\n",
       "       [6.6640e-02, 0.0000e+00, 4.0500e+00, ..., 1.6600e+01, 3.9096e+02,\n",
       "        5.3300e+00]])"
      ]
     },
     "execution_count": 13,
     "metadata": {},
     "output_type": "execute_result"
    }
   ],
   "source": [
    "X"
   ]
  },
  {
   "cell_type": "code",
   "execution_count": 14,
   "metadata": {},
   "outputs": [
    {
     "data": {
      "text/plain": [
       "array([  3.8497,   0.    ,  18.1   ,   1.    ,   0.77  ,   6.395 ,\n",
       "        91.    ,   2.5052,  24.    , 666.    ,  20.2   , 391.34  ,\n",
       "        13.27  ])"
      ]
     },
     "execution_count": 14,
     "metadata": {},
     "output_type": "execute_result"
    }
   ],
   "source": [
    "X[0]"
   ]
  },
  {
   "cell_type": "code",
   "execution_count": 15,
   "metadata": {},
   "outputs": [
    {
     "data": {
      "text/plain": [
       "array([[  3.8497,   0.    ,  18.1   ,   1.    ,   0.77  ,   6.395 ,\n",
       "         91.    ,   2.5052,  24.    , 666.    ,  20.2   , 391.34  ,\n",
       "         13.27  ]])"
      ]
     },
     "execution_count": 15,
     "metadata": {},
     "output_type": "execute_result"
    }
   ],
   "source": [
    "X[:1]"
   ]
  },
  {
   "cell_type": "code",
   "execution_count": 16,
   "metadata": {},
   "outputs": [
    {
     "data": {
      "text/plain": [
       "array([[3.84970e+00, 0.00000e+00, 1.81000e+01, ..., 2.02000e+01,\n",
       "        3.91340e+02, 1.32700e+01],\n",
       "       [3.04100e-02, 0.00000e+00, 5.19000e+00, ..., 2.02000e+01,\n",
       "        3.94810e+02, 1.05600e+01],\n",
       "       [2.41030e-01, 0.00000e+00, 7.38000e+00, ..., 1.96000e+01,\n",
       "        3.96900e+02, 1.27900e+01],\n",
       "       ...,\n",
       "       [8.64476e+00, 0.00000e+00, 1.81000e+01, ..., 2.02000e+01,\n",
       "        3.96900e+02, 1.51700e+01],\n",
       "       [9.39063e+00, 0.00000e+00, 1.81000e+01, ..., 2.02000e+01,\n",
       "        3.96900e+02, 2.28800e+01],\n",
       "       [1.31170e-01, 0.00000e+00, 8.56000e+00, ..., 2.09000e+01,\n",
       "        3.87690e+02, 1.40900e+01]])"
      ]
     },
     "execution_count": 16,
     "metadata": {},
     "output_type": "execute_result"
    }
   ],
   "source": [
    "X_train"
   ]
  },
  {
   "cell_type": "code",
   "execution_count": 17,
   "metadata": {},
   "outputs": [
    {
     "data": {
      "text/plain": [
       "array([[3.8497e+00, 0.0000e+00, 1.8100e+01, 1.0000e+00, 7.7000e-01,\n",
       "        6.3950e+00, 9.1000e+01, 2.5052e+00, 2.4000e+01, 6.6600e+02,\n",
       "        2.0200e+01, 3.9134e+02, 1.3270e+01],\n",
       "       [3.0410e-02, 0.0000e+00, 5.1900e+00, 0.0000e+00, 5.1500e-01,\n",
       "        5.8950e+00, 5.9600e+01, 5.6150e+00, 5.0000e+00, 2.2400e+02,\n",
       "        2.0200e+01, 3.9481e+02, 1.0560e+01]])"
      ]
     },
     "execution_count": 17,
     "metadata": {},
     "output_type": "execute_result"
    }
   ],
   "source": [
    "X[:2]"
   ]
  },
  {
   "cell_type": "code",
   "execution_count": 18,
   "metadata": {},
   "outputs": [
    {
     "data": {
      "text/plain": [
       "array([[2.41030e-01, 0.00000e+00, 7.38000e+00, ..., 1.96000e+01,\n",
       "        3.96900e+02, 1.27900e+01],\n",
       "       [6.29760e-01, 0.00000e+00, 8.14000e+00, ..., 2.10000e+01,\n",
       "        3.96900e+02, 8.26000e+00],\n",
       "       [7.35341e+01, 0.00000e+00, 1.81000e+01, ..., 2.02000e+01,\n",
       "        1.64500e+01, 2.06200e+01],\n",
       "       ...,\n",
       "       [8.40540e-01, 0.00000e+00, 8.14000e+00, ..., 2.10000e+01,\n",
       "        3.03420e+02, 1.65100e+01],\n",
       "       [4.01100e-02, 8.00000e+01, 1.52000e+00, ..., 1.26000e+01,\n",
       "        3.96900e+02, 4.08000e+00],\n",
       "       [6.66400e-02, 0.00000e+00, 4.05000e+00, ..., 1.66000e+01,\n",
       "        3.90960e+02, 5.33000e+00]])"
      ]
     },
     "execution_count": 18,
     "metadata": {},
     "output_type": "execute_result"
    }
   ],
   "source": [
    "X[2:]"
   ]
  },
  {
   "cell_type": "code",
   "execution_count": 19,
   "metadata": {},
   "outputs": [
    {
     "data": {
      "text/plain": [
       "array([[3.8497e+00, 0.0000e+00, 1.8100e+01, ..., 2.0200e+01, 3.9134e+02,\n",
       "        1.3270e+01],\n",
       "       [3.0410e-02, 0.0000e+00, 5.1900e+00, ..., 2.0200e+01, 3.9481e+02,\n",
       "        1.0560e+01],\n",
       "       [2.4103e-01, 0.0000e+00, 7.3800e+00, ..., 1.9600e+01, 3.9690e+02,\n",
       "        1.2790e+01],\n",
       "       ...,\n",
       "       [8.4054e-01, 0.0000e+00, 8.1400e+00, ..., 2.1000e+01, 3.0342e+02,\n",
       "        1.6510e+01],\n",
       "       [4.0110e-02, 8.0000e+01, 1.5200e+00, ..., 1.2600e+01, 3.9690e+02,\n",
       "        4.0800e+00],\n",
       "       [6.6640e-02, 0.0000e+00, 4.0500e+00, ..., 1.6600e+01, 3.9096e+02,\n",
       "        5.3300e+00]])"
      ]
     },
     "execution_count": 19,
     "metadata": {},
     "output_type": "execute_result"
    }
   ],
   "source": [
    "X"
   ]
  },
  {
   "cell_type": "code",
   "execution_count": 20,
   "metadata": {},
   "outputs": [],
   "source": [
    "X_test,y_test = X[number_train:],y[number_train:]"
   ]
  },
  {
   "cell_type": "code",
   "execution_count": 21,
   "metadata": {},
   "outputs": [],
   "source": [
    "# 决策树回归模型\n",
    "dt_regressor = DecisionTreeRegressor(max_depth=4)"
   ]
  },
  {
   "cell_type": "code",
   "execution_count": 22,
   "metadata": {},
   "outputs": [
    {
     "data": {
      "text/plain": [
       "DecisionTreeRegressor(criterion='mse', max_depth=4, max_features=None,\n",
       "           max_leaf_nodes=None, min_impurity_decrease=0.0,\n",
       "           min_impurity_split=None, min_samples_leaf=1,\n",
       "           min_samples_split=2, min_weight_fraction_leaf=0.0,\n",
       "           presort=False, random_state=None, splitter='best')"
      ]
     },
     "execution_count": 22,
     "metadata": {},
     "output_type": "execute_result"
    }
   ],
   "source": [
    "dt_regressor.fit(X_train,y_train)"
   ]
  },
  {
   "cell_type": "code",
   "execution_count": 23,
   "metadata": {},
   "outputs": [],
   "source": [
    "# AdaBoot 对决策树回归模型进行拟合 ， 然后对比最后的效果\n",
    "ab_regressor = AdaBoostRegressor(DecisionTreeRegressor(max_depth=4),n_estimators=400,random_state=7)"
   ]
  },
  {
   "cell_type": "code",
   "execution_count": 24,
   "metadata": {},
   "outputs": [
    {
     "data": {
      "text/plain": [
       "AdaBoostRegressor(base_estimator=DecisionTreeRegressor(criterion='mse', max_depth=4, max_features=None,\n",
       "           max_leaf_nodes=None, min_impurity_decrease=0.0,\n",
       "           min_impurity_split=None, min_samples_leaf=1,\n",
       "           min_samples_split=2, min_weight_fraction_leaf=0.0,\n",
       "           presort=False, random_state=None, splitter='best'),\n",
       "         learning_rate=1.0, loss='linear', n_estimators=400,\n",
       "         random_state=7)"
      ]
     },
     "execution_count": 24,
     "metadata": {},
     "output_type": "execute_result"
    }
   ],
   "source": [
    "ab_regressor.fit(X_train,y_train)"
   ]
  },
  {
   "cell_type": "code",
   "execution_count": 25,
   "metadata": {},
   "outputs": [],
   "source": [
    "y_pred_dt = dt_regressor.predict(X_test)"
   ]
  },
  {
   "cell_type": "code",
   "execution_count": 26,
   "metadata": {},
   "outputs": [],
   "source": [
    "mse = mean_squared_error(y_test,y_pred_dt)"
   ]
  },
  {
   "cell_type": "code",
   "execution_count": 27,
   "metadata": {},
   "outputs": [
    {
     "data": {
      "text/plain": [
       "14.790048392224149"
      ]
     },
     "execution_count": 27,
     "metadata": {},
     "output_type": "execute_result"
    }
   ],
   "source": [
    "mse"
   ]
  },
  {
   "cell_type": "code",
   "execution_count": 28,
   "metadata": {},
   "outputs": [],
   "source": [
    "exs = explained_variance_score(y_test,y_pred_dt)"
   ]
  },
  {
   "cell_type": "code",
   "execution_count": 29,
   "metadata": {},
   "outputs": [
    {
     "data": {
      "text/plain": [
       "0.8206001721287848"
      ]
     },
     "execution_count": 29,
     "metadata": {},
     "output_type": "execute_result"
    }
   ],
   "source": [
    "exs"
   ]
  },
  {
   "cell_type": "code",
   "execution_count": 30,
   "metadata": {},
   "outputs": [],
   "source": [
    "y_test_ab = ab_regressor.predict(X_test)"
   ]
  },
  {
   "cell_type": "code",
   "execution_count": 31,
   "metadata": {},
   "outputs": [],
   "source": [
    "mse = mean_squared_error(y_test,y_test_ab)"
   ]
  },
  {
   "cell_type": "code",
   "execution_count": 32,
   "metadata": {},
   "outputs": [
    {
     "data": {
      "text/plain": [
       "7.644487300847561"
      ]
     },
     "execution_count": 32,
     "metadata": {},
     "output_type": "execute_result"
    }
   ],
   "source": [
    "mse"
   ]
  },
  {
   "cell_type": "code",
   "execution_count": 33,
   "metadata": {},
   "outputs": [],
   "source": [
    "evs = explained_variance_score(y_test,y_test_ab)"
   ]
  },
  {
   "cell_type": "code",
   "execution_count": 34,
   "metadata": {},
   "outputs": [
    {
     "data": {
      "text/plain": [
       "0.9072957987635436"
      ]
     },
     "execution_count": 34,
     "metadata": {},
     "output_type": "execute_result"
    }
   ],
   "source": [
    "evs"
   ]
  },
  {
   "cell_type": "code",
   "execution_count": 35,
   "metadata": {},
   "outputs": [
    {
     "name": "stdout",
     "output_type": "stream",
     "text": [
      "['CRIM' 'ZN' 'INDUS' 'CHAS' 'NOX' 'RM' 'AGE' 'DIS' 'RAD' 'TAX' 'PTRATIO'\n",
      " 'B' 'LSTAT']\n"
     ]
    },
    {
     "data": {
      "image/png": "[encoded data removed]",
      "text/plain": [
       "<matplotlib.figure.Figure at 0x7f66de48e910>"
      ]
     },
     "metadata": {},
     "output_type": "display_data"
    }
   ],
   "source": [
    "plot_feature_importance(dt_regressor.feature_importances_,\n",
    "                       'DecisionTreeRegressor', house_data.feature_names)"
   ]
  },
  {
   "cell_type": "code",
   "execution_count": 36,
   "metadata": {},
   "outputs": [
    {
     "data": {
      "text/plain": [
       "array(['CRIM', 'ZN', 'INDUS', 'CHAS', 'NOX', 'RM', 'AGE', 'DIS', 'RAD',\n",
       "       'TAX', 'PTRATIO', 'B', 'LSTAT'], dtype='|S7')"
      ]
     },
     "execution_count": 36,
     "metadata": {},
     "output_type": "execute_result"
    }
   ],
   "source": [
    "house_data.feature_names"
   ]
  },
  {
   "cell_type": "code",
   "execution_count": 37,
   "metadata": {},
   "outputs": [
    {
     "name": "stdout",
     "output_type": "stream",
     "text": [
      "['CRIM' 'ZN' 'INDUS' 'CHAS' 'NOX' 'RM' 'AGE' 'DIS' 'RAD' 'TAX' 'PTRATIO'\n",
      " 'B' 'LSTAT']\n"
     ]
    },
    {
     "data": {
      "image/png": "[encoded data removed]",
      "text/plain": [
       "<matplotlib.figure.Figure at 0x7f66ed15d310>"
      ]
     },
     "metadata": {},
     "output_type": "display_data"
    }
   ],
   "source": [
    "plot_feature_importance(ab_regressor.feature_importances_,'AdaBoost Regressor',house_data.feature_names)"
   ]
  },
  {
   "cell_type": "code",
   "execution_count": 38,
   "metadata": {},
   "outputs": [
    {
     "data": {
      "text/plain": [
       "array([  3.8497,   0.    ,  18.1   ,   1.    ,   0.77  ,   6.395 ,\n",
       "        91.    ,   2.5052,  24.    , 666.    ,  20.2   , 391.34  ,\n",
       "        13.27  ])"
      ]
     },
     "execution_count": 38,
     "metadata": {},
     "output_type": "execute_result"
    }
   ],
   "source": [
    "X[0]"
   ]
  },
  {
   "cell_type": "code",
   "execution_count": 39,
   "metadata": {},
   "outputs": [],
   "source": [
    "################## 共享自行车 需求分布 ####################"
   ]
  },
  {
   "cell_type": "code",
   "execution_count": 57,
   "metadata": {},
   "outputs": [],
   "source": [
    "import csv"
   ]
  },
  {
   "cell_type": "code",
   "execution_count": 121,
   "metadata": {},
   "outputs": [],
   "source": [
    "def load_dataset(filename):\n",
    "    with open(filename,'r') as f:\n",
    "        file_reader = csv.reader(f,delimiter = ',')\n",
    "        X, y= [], []\n",
    "        for row in file_reader:\n",
    "            X.append(row[2:13])\n",
    "            y.append(row[-1])\n",
    "    feature_name = np.array(X[0])\n",
    "    \n",
    "    return np.array(X[1:]).astype(np.float32), np.array(y[1:]).astype(np.float32),feature_name"
   ]
  },
  {
   "cell_type": "code",
   "execution_count": 122,
   "metadata": {},
   "outputs": [],
   "source": [
    "X_bike,y_bike,feature_name  = load_dataset('bike_day.csv')"
   ]
  },
  {
   "cell_type": "code",
   "execution_count": 101,
   "metadata": {},
   "outputs": [],
   "source": [
    "X_bike,y_bike = shuffle(X_bike,y_bike,random_state=7)"
   ]
  },
  {
   "cell_type": "code",
   "execution_count": 102,
   "metadata": {},
   "outputs": [
    {
     "data": {
      "text/plain": [
       "['season',\n",
       " 'yr',\n",
       " 'mnth',\n",
       " 'holiday',\n",
       " 'weekday',\n",
       " 'workingday',\n",
       " 'weathersit',\n",
       " 'temp',\n",
       " 'atemp',\n",
       " 'hum',\n",
       " 'windspeed']"
      ]
     },
     "execution_count": 102,
     "metadata": {},
     "output_type": "execute_result"
    }
   ],
   "source": [
    "feature_name"
   ]
  },
  {
   "cell_type": "code",
   "execution_count": 103,
   "metadata": {},
   "outputs": [],
   "source": [
    "dt_regress_bike = DecisionTreeRegressor(max_depth=4)"
   ]
  },
  {
   "cell_type": "code",
   "execution_count": 104,
   "metadata": {},
   "outputs": [],
   "source": [
    "bike_train_number = int(0.8*len(X_bike))"
   ]
  },
  {
   "cell_type": "code",
   "execution_count": 105,
   "metadata": {},
   "outputs": [
    {
     "data": {
      "text/plain": [
       "584"
      ]
     },
     "execution_count": 105,
     "metadata": {},
     "output_type": "execute_result"
    }
   ],
   "source": [
    "bike_train_number"
   ]
  },
  {
   "cell_type": "code",
   "execution_count": 106,
   "metadata": {},
   "outputs": [],
   "source": [
    "X_train_bike, y_train_bike = X_bike[:bike_train_number], y_bike[:bike_train_number]"
   ]
  },
  {
   "cell_type": "code",
   "execution_count": 107,
   "metadata": {},
   "outputs": [
    {
     "data": {
      "text/plain": [
       "DecisionTreeRegressor(criterion='mse', max_depth=4, max_features=None,\n",
       "           max_leaf_nodes=None, min_impurity_decrease=0.0,\n",
       "           min_impurity_split=None, min_samples_leaf=1,\n",
       "           min_samples_split=2, min_weight_fraction_leaf=0.0,\n",
       "           presort=False, random_state=None, splitter='best')"
      ]
     },
     "execution_count": 107,
     "metadata": {},
     "output_type": "execute_result"
    }
   ],
   "source": [
    "dt_regress_bike.fit(X_train_bike,y_train_bike)"
   ]
  },
  {
   "cell_type": "code",
   "execution_count": 108,
   "metadata": {},
   "outputs": [],
   "source": [
    "X_test_bike,y_test_bike = X_bike[bike_train_number:],y_bike[bike_train_number:]"
   ]
  },
  {
   "cell_type": "code",
   "execution_count": 109,
   "metadata": {},
   "outputs": [],
   "source": [
    "y_predict_bike  = dt_regress_bike.predict(X_test_bike)"
   ]
  },
  {
   "cell_type": "code",
   "execution_count": 110,
   "metadata": {},
   "outputs": [],
   "source": [
    "bike_mse = mean_squared_error(y_test_bike,y_predict_bike)"
   ]
  },
  {
   "cell_type": "code",
   "execution_count": 111,
   "metadata": {},
   "outputs": [
    {
     "data": {
      "text/plain": [
       "493650.51318675623"
      ]
     },
     "execution_count": 111,
     "metadata": {},
     "output_type": "execute_result"
    }
   ],
   "source": [
    "bike_mse"
   ]
  },
  {
   "cell_type": "code",
   "execution_count": 112,
   "metadata": {},
   "outputs": [],
   "source": [
    "evs_bike = explained_variance_score(y_test_bike,y_predict_bike)"
   ]
  },
  {
   "cell_type": "code",
   "execution_count": 113,
   "metadata": {},
   "outputs": [
    {
     "data": {
      "text/plain": [
       "0.8640867316075524"
      ]
     },
     "execution_count": 113,
     "metadata": {},
     "output_type": "execute_result"
    }
   ],
   "source": [
    "evs_bike"
   ]
  },
  {
   "cell_type": "code",
   "execution_count": 114,
   "metadata": {},
   "outputs": [],
   "source": [
    "# n_estimators 评估器 表示随机森林需要使用的决策树数量 \n",
    "rdforest = RandomForestRegressor(n_estimators=1000,max_depth=10,min_samples_split=2)"
   ]
  },
  {
   "cell_type": "code",
   "execution_count": 115,
   "metadata": {},
   "outputs": [
    {
     "data": {
      "text/plain": [
       "RandomForestRegressor(bootstrap=True, criterion='mse', max_depth=10,\n",
       "           max_features='auto', max_leaf_nodes=None,\n",
       "           min_impurity_decrease=0.0, min_impurity_split=None,\n",
       "           min_samples_leaf=1, min_samples_split=2,\n",
       "           min_weight_fraction_leaf=0.0, n_estimators=1000, n_jobs=1,\n",
       "           oob_score=False, random_state=None, verbose=0, warm_start=False)"
      ]
     },
     "execution_count": 115,
     "metadata": {},
     "output_type": "execute_result"
    }
   ],
   "source": [
    "rdforest.fit(X_train_bike,y_train_bike)"
   ]
  },
  {
   "cell_type": "code",
   "execution_count": 116,
   "metadata": {},
   "outputs": [],
   "source": [
    "y_predict_bike2 = rdforest.predict(X_test_bike)"
   ]
  },
  {
   "cell_type": "code",
   "execution_count": 117,
   "metadata": {},
   "outputs": [
    {
     "data": {
      "text/plain": [
       "array([6965.29310345, 2888.125     , 6965.29310345, 1899.74603175,\n",
       "       4447.54545455, 4447.54545455, 6965.29310345, 6965.29310345,\n",
       "       4988.85714286, 6965.29310345, 3487.8       , 4447.54545455,\n",
       "       6965.29310345, 4447.54545455, 6965.29310345, 4447.54545455,\n",
       "       6140.38461538, 1899.74603175, 6140.38461538, 4447.54545455,\n",
       "       4447.54545455, 4447.54545455, 6965.29310345, 6140.38461538,\n",
       "       4988.85714286, 6965.29310345, 2888.125     , 4447.54545455,\n",
       "       3316.        , 6140.38461538, 1899.74603175, 1186.52      ,\n",
       "       6965.29310345, 4447.54545455, 6140.38461538, 6965.29310345,\n",
       "       6140.38461538, 3316.        , 6140.38461538, 6140.38461538,\n",
       "       1186.52      , 4447.54545455, 4447.54545455, 1186.52      ,\n",
       "       4447.54545455, 4447.54545455, 4447.54545455, 4447.54545455,\n",
       "       6140.38461538, 4988.85714286, 2888.125     , 6965.29310345,\n",
       "       6140.38461538, 3752.67647059, 4447.54545455, 1899.74603175,\n",
       "       3752.67647059, 4447.54545455, 6965.29310345, 4742.75      ,\n",
       "       6140.38461538, 4988.85714286, 4447.54545455, 1899.74603175,\n",
       "       3487.8       , 4447.54545455, 6965.29310345, 6965.29310345,\n",
       "       3752.67647059, 4447.54545455, 4988.85714286, 6965.29310345,\n",
       "       3316.        , 4447.54545455, 4988.85714286, 6965.29310345,\n",
       "       1186.52      , 3752.67647059, 1899.74603175, 4447.54545455,\n",
       "       2888.125     , 4447.54545455, 1899.74603175, 1899.74603175,\n",
       "       6140.38461538, 1186.52      , 4988.85714286, 4447.54545455,\n",
       "       2888.125     , 6140.38461538, 1899.74603175, 6965.29310345,\n",
       "       4447.54545455, 1899.74603175, 4447.54545455, 4988.85714286,\n",
       "       4447.54545455, 4742.75      , 6965.29310345, 4447.54545455,\n",
       "       6965.29310345, 6965.29310345, 3487.8       , 3752.67647059,\n",
       "       2888.125     , 4447.54545455, 1899.74603175, 4447.54545455,\n",
       "       4988.85714286, 4447.54545455, 6140.38461538, 6965.29310345,\n",
       "       6140.38461538, 4447.54545455, 3487.8       , 4447.54545455,\n",
       "       4447.54545455, 3316.        , 4447.54545455, 4447.54545455,\n",
       "        666.        , 6965.29310345, 1899.74603175, 6140.38461538,\n",
       "       1186.52      , 2581.8       , 1899.74603175, 6140.38461538,\n",
       "       3752.67647059, 6140.38461538, 1899.74603175, 4447.54545455,\n",
       "       6965.29310345, 2888.125     , 3487.8       , 6965.29310345,\n",
       "       6965.29310345, 3752.67647059, 4447.54545455, 3487.8       ,\n",
       "       6965.29310345, 4447.54545455, 6965.29310345, 6140.38461538,\n",
       "       6965.29310345, 4447.54545455, 4447.54545455])"
      ]
     },
     "execution_count": 117,
     "metadata": {},
     "output_type": "execute_result"
    }
   ],
   "source": [
    "y_predict_bike"
   ]
  },
  {
   "cell_type": "code",
   "execution_count": 118,
   "metadata": {},
   "outputs": [],
   "source": [
    "bike_evs = explained_variance_score(y_test_bike,y_predict_bike2)"
   ]
  },
  {
   "cell_type": "code",
   "execution_count": 119,
   "metadata": {},
   "outputs": [
    {
     "data": {
      "text/plain": [
       "0.9148266630794261"
      ]
     },
     "execution_count": 119,
     "metadata": {},
     "output_type": "execute_result"
    }
   ],
   "source": [
    "bike_evs"
   ]
  },
  {
   "cell_type": "code",
   "execution_count": 123,
   "metadata": {},
   "outputs": [
    {
     "name": "stdout",
     "output_type": "stream",
     "text": [
      "['season' 'yr' 'mnth' 'holiday' 'weekday' 'workingday' 'weathersit' 'temp'\n",
      " 'atemp' 'hum' 'windspeed']\n"
     ]
    },
    {
     "data": {
      "image/png": "[encoded data removed]",
      "text/plain": [
       "<matplotlib.figure.Figure at 0x7f66dc396fd0>"
      ]
     },
     "metadata": {},
     "output_type": "display_data"
    }
   ],
   "source": [
    "plot_feature_importance(rdforest.feature_importances_,'Forest Feature Impantance',feature_name)"
   ]
  },
  {
   "cell_type": "code",
   "execution_count": null,
   "metadata": {},
   "outputs": [],
   "source": []
  }
 ],
 "metadata": {
  "kernelspec": {
   "display_name": "Python 2",
   "language": "python",
   "name": "python2"
  },
  "language_info": {
   "codemirror_mode": {
    "name": "ipython",
    "version": 2
   },
   "file_extension": ".py",
   "mimetype": "text/x-python",
   "name": "python",
   "nbconvert_exporter": "python",
   "pygments_lexer": "ipython2",
   "version": "2.7.12"
  }
 },
 "nbformat": 4,
 "nbformat_minor": 2
}
