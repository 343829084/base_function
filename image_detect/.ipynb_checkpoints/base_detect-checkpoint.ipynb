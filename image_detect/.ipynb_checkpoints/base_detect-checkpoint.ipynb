{
 "cells": [
  {
   "cell_type": "code",
   "execution_count": 1,
   "metadata": {},
   "outputs": [],
   "source": [
    "from PIL import Image\n",
    "import pytesseract\n",
    "import cv2\n",
    "import matplotlib.pyplot as plt\n",
    "import requests\n",
    "import os"
   ]
  },
  {
   "cell_type": "code",
   "execution_count": 8,
   "metadata": {},
   "outputs": [],
   "source": [
    "r=requests.get('http://113.108.219.40/Dop/CheckCode.aspx?codemark=38.63767845258748')\n",
    "\n",
    "with open('code.gif','wb') as f:\n",
    "    f.write(r.content)"
   ]
  },
  {
   "cell_type": "code",
   "execution_count": 10,
   "metadata": {},
   "outputs": [],
   "source": [
    "im = Image.open('code.gif')\n",
    "im=im.convert('RGB')\n",
    "r,g,b,=im.split()"
   ]
  },
  {
   "cell_type": "code",
   "execution_count": 11,
   "metadata": {},
   "outputs": [
    {
     "name": "stdout",
     "output_type": "stream",
     "text": [
      "L\n",
      "L\n",
      "L\n"
     ]
    }
   ],
   "source": [
    "print(r.mode)\n",
    "print(g.mode)\n",
    "print(b.mode)\n",
    "\n",
    "\n",
    "\n",
    "# b.mode"
   ]
  },
  {
   "cell_type": "code",
   "execution_count": 12,
   "metadata": {},
   "outputs": [],
   "source": [
    "r.save('r.jpg')\n",
    "b.save('b.jpg')\n",
    "g.save('g.jpg')"
   ]
  },
  {
   "cell_type": "code",
   "execution_count": 13,
   "metadata": {},
   "outputs": [
    {
     "data": {
      "text/plain": [
       "u'Trvntiz. I'"
      ]
     },
     "execution_count": 13,
     "metadata": {},
     "output_type": "execute_result"
    }
   ],
   "source": [
    "# b=b.convert('1')\n",
    "pytesseract.image_to_string(g)"
   ]
  },
  {
   "cell_type": "code",
   "execution_count": 14,
   "metadata": {
    "scrolled": true
   },
   "outputs": [
    {
     "name": "stdout",
     "output_type": "stream",
     "text": [
      "(22, 73, 3)\n",
      "4818\n",
      "[[ 1  1  1]\n",
      " [ 2  2  2]\n",
      " [ 0  0  0]\n",
      " [12 12 12]\n",
      " [ 8  8  8]\n",
      " [ 0  0  0]\n",
      " [ 0  0  0]\n",
      " [ 6  6  6]\n",
      " [ 2  2  2]\n",
      " [ 0  0  0]\n",
      " [ 3  3  3]\n",
      " [ 0  0  0]\n",
      " [ 5  5  5]\n",
      " [ 0  0  0]\n",
      " [13 13 13]\n",
      " [ 0  0  0]\n",
      " [ 4  4  4]\n",
      " [ 8  8  8]\n",
      " [ 4  4  4]\n",
      " [ 0  0  0]\n",
      " [ 3  3  3]\n",
      " [ 7  7  7]]\n"
     ]
    }
   ],
   "source": [
    "# im=Image.open('code.png')\n",
    "img = cv2.imread('g.jpg')\n",
    "print(img.shape)\n",
    "# print(type(img))\n",
    "print(img.size)\n",
    "# converted_img = cv2.cvtColor(img, cv2.COLOR_GRAY2BGR)\n",
    "print(img[:,0])"
   ]
  },
  {
   "cell_type": "code",
   "execution_count": 15,
   "metadata": {},
   "outputs": [],
   "source": [
    "dst = cv2.fastNlMeansDenoisingColored(img,None,49,49,15,21)"
   ]
  },
  {
   "cell_type": "code",
   "execution_count": 21,
   "metadata": {
    "scrolled": true
   },
   "outputs": [
    {
     "name": "stdout",
     "output_type": "stream",
     "text": [
      "\n",
      "General configuration for OpenCV 2.4.13.6 =====================================\n",
      "  Version control:               2.4.13.6\n",
      "\n",
      "  Platform:\n",
      "    Timestamp:                   2018-02-22T00:42:24Z\n",
      "    Host:                        Windows 10.0.16299 AMD64\n",
      "    CMake:                       3.9.3\n",
      "    CMake generator:             Visual Studio 14 2015\n",
      "    CMake build tool:            C:/Program Files (x86)/MSBuild/14.0/bin/MSBuild.exe\n",
      "    MSVC:                        1900\n",
      "\n",
      "  C/C++:\n",
      "    Built as dynamic libs?:      NO\n",
      "    C++ Compiler:                C:/Program Files (x86)/Microsoft Visual Studio 14.0/VC/bin/cl.exe  (ver 19.0.24215.1)\n",
      "    C++ flags (Release):         /DWIN32 /D_WINDOWS /W4 /GR /EHa  /D _CRT_SECURE_NO_DEPRECATE /D _CRT_NONSTDC_NO_DEPRECATE /D _SCL_SECURE_NO_WARNINGS /Gy /bigobj /arch:SSE2 /Oi /fp:fast  /wd4251 /wd4275 /wd4589 /wd4359 /MP8  /MT /O2 /Ob2 /DNDEBUG  /Zi\n",
      "    C++ flags (Debug):           /DWIN32 /D_WINDOWS /W4 /GR /EHa  /D _CRT_SECURE_NO_DEPRECATE /D _CRT_NONSTDC_NO_DEPRECATE /D _SCL_SECURE_NO_WARNINGS /Gy /bigobj /arch:SSE2 /Oi /fp:fast  /wd4251 /wd4275 /wd4589 /wd4359 /MP8  /MTd /Zi /Ob0 /Od /RTC1 \n",
      "    C Compiler:                  C:/Program Files (x86)/Microsoft Visual Studio 14.0/VC/bin/cl.exe\n",
      "    C flags (Release):           /DWIN32 /D_WINDOWS /W3  /D _CRT_SECURE_NO_DEPRECATE /D _CRT_NONSTDC_NO_DEPRECATE /D _SCL_SECURE_NO_WARNINGS /Gy /bigobj /arch:SSE2 /Oi /fp:fast    /MP8  /MT /O2 /Ob2 /DNDEBUG  /Zi\n",
      "    C flags (Debug):             /DWIN32 /D_WINDOWS /W3  /D _CRT_SECURE_NO_DEPRECATE /D _CRT_NONSTDC_NO_DEPRECATE /D _SCL_SECURE_NO_WARNINGS /Gy /bigobj /arch:SSE2 /Oi /fp:fast    /MP8  /MTd /Zi /Ob0 /Od /RTC1 \n",
      "    Linker flags (Release):      /machine:X86  /NODEFAULTLIB:atlthunk.lib /NODEFAULTLIB:msvcrt.lib /NODEFAULTLIB:msvcrtd.lib /INCREMENTAL:NO  /debug /NODEFAULTLIB:libcmtd.lib\n",
      "    Linker flags (Debug):        /machine:X86  /NODEFAULTLIB:atlthunk.lib /NODEFAULTLIB:msvcrt.lib /NODEFAULTLIB:msvcrtd.lib /debug /INCREMENTAL  /NODEFAULTLIB:libcmt.lib\n",
      "    ccache:                      NO\n",
      "    Precompiled headers:         YES\n",
      "\n",
      "  OpenCV modules:\n",
      "    To be built:                 core flann imgproc highgui features2d calib3d ml video legacy objdetect photo gpu ocl nonfree contrib java python stitching superres ts videostab\n",
      "    Disabled:                    world\n",
      "    Disabled by dependency:      -\n",
      "    Unavailable:                 androidcamera dynamicuda viz\n",
      "\n",
      "  Windows RT support:            NO\n",
      "\n",
      "  GUI: \n",
      "    QT:                          NO\n",
      "    Win32 UI:                    YES\n",
      "    OpenGL support:              NO\n",
      "    VTK support:                 NO\n",
      "\n",
      "  Media I/O: \n",
      "    ZLib:                        build (ver 1.2.7)\n",
      "    JPEG:                        build (ver 62)\n",
      "    PNG:                         build (ver 1.5.27)\n",
      "    TIFF:                        build (ver 42 - 4.0.2)\n",
      "    JPEG 2000:                   build (ver 1.900.1)\n",
      "    OpenEXR:                     build (ver 1.7.1)\n",
      "\n",
      "  Video I/O:\n",
      "    Video for Windows:           YES\n",
      "    DC1394 1.x:                  NO\n",
      "    DC1394 2.x:                  NO\n",
      "    FFMPEG:                      YES (prebuilt binaries)\n",
      "      avcodec:                   YES (ver 55.18.102)\n",
      "      avformat:                  YES (ver 55.12.100)\n",
      "      avutil:                    YES (ver 52.38.100)\n",
      "      swscale:                   YES (ver 2.3.100)\n",
      "      avresample:                YES (ver 1.0.1)\n",
      "    OpenNI:                      NO\n",
      "    OpenNI PrimeSensor Modules:  NO\n",
      "    PvAPI:                       NO\n",
      "    GigEVisionSDK:               NO\n",
      "    DirectShow:                  YES\n",
      "    Media Foundation:            NO\n",
      "    XIMEA:                       NO\n",
      "    Intel PerC:                  NO\n",
      "\n",
      "  Other third-party libraries:\n",
      "    Use IPP:                     NO\n",
      "    Use Eigen:                   NO\n",
      "    Use TBB:                     NO\n",
      "    Use OpenMP:                  NO\n",
      "    Use GCD                      NO\n",
      "    Use Concurrency              YES\n",
      "    Use C=:                      NO\n",
      "    Use Cuda:                    NO\n",
      "    Use OpenCL:                  YES\n",
      "\n",
      "  OpenCL:\n",
      "    Version:                     dynamic\n",
      "    Include path:                C:/build/2_4_winpack-bindings-win32-vc14-static/opencv/3rdparty/include/opencl/1.2\n",
      "    Use AMD FFT:                 NO\n",
      "    Use AMD BLAS:                NO\n",
      "\n",
      "  Python:\n",
      "    Interpreter:                 C:/utils/soft/python27-x86/python2.exe (ver 2.7.12)\n",
      "    Libraries:                   C:/utils/soft/python27-x86/Libs/python27.lib (ver 2.7.12)\n",
      "    numpy:                       C:/utils/soft/python27-x86/lib/site-packages/numpy/core/include (ver 1.12.0)\n",
      "    packages path:               C:/utils/soft/python27-x86/Lib/site-packages\n",
      "\n",
      "  Java:\n",
      "    ant:                         C:/utils/soft/apache-ant-1.9.7/bin/ant.bat (ver 1.9.7)\n",
      "    JNI:                         C:/Program Files (x86)/Java/jdk1.8.0_112/include C:/Program Files (x86)/Java/jdk1.8.0_112/include/win32 C:/Program Files (x86)/Java/jdk1.8.0_112/include\n",
      "    Java tests:                  NO\n",
      "\n",
      "  Tests and samples:\n",
      "    Tests:                       NO\n",
      "    Performance tests:           NO\n",
      "    C/C++ Examples:              NO\n",
      "\n",
      "  Install path:                  C:/build/2_4_winpack-bindings-win32-vc14-static/install\n",
      "\n",
      "  cvconfig.h is in:              C:/build/2_4_winpack-bindings-win32-vc14-static/build\n",
      "-----------------------------------------------------------------\n",
      "\n",
      "\n"
     ]
    }
   ],
   "source": [
    "print cv2.getBuildInformation()"
   ]
  },
  {
   "cell_type": "code",
   "execution_count": 16,
   "metadata": {},
   "outputs": [
    {
     "data": {
      "image/png": "[encoded data removed]",
      "text/plain": [
       "<matplotlib.figure.Figure at 0x373bad0>"
      ]
     },
     "metadata": {},
     "output_type": "display_data"
    }
   ],
   "source": [
    "plt.subplot(121)\n",
    "plt.imshow(img)\n",
    "plt.subplot(122)\n",
    "plt.imshow(dst)\n",
    "plt.show()"
   ]
  },
  {
   "cell_type": "code",
   "execution_count": 17,
   "metadata": {},
   "outputs": [],
   "source": [
    "# 转为黑白图\n",
    "ret,thresh = cv2.threshold(dst,127,255,cv2.THRESH_BINARY_INV)"
   ]
  },
  {
   "cell_type": "code",
   "execution_count": 19,
   "metadata": {
    "scrolled": true
   },
   "outputs": [
    {
     "data": {
      "image/png": "[encoded data removed]",
      "text/plain": [
       "<matplotlib.figure.Figure at 0x6eed570>"
      ]
     },
     "metadata": {},
     "output_type": "display_data"
    }
   ],
   "source": [
    "plt.imshow(thresh)\n",
    "plt.show()"
   ]
  },
  {
   "cell_type": "code",
   "execution_count": null,
   "metadata": {},
   "outputs": [],
   "source": []
  },
  {
   "cell_type": "code",
   "execution_count": null,
   "metadata": {},
   "outputs": [],
   "source": [
    "# 颜色转变\n",
    "img = cv2.cvtColor(dst, cv2.COLOR_BGR2RGB)\n",
    "im_pil = Image.fromarray(img)\n",
    "im_pil.show()\n",
    "img_l = im_pil.convert('1')\n",
    "pytesseract.image_to_string(img_l)"
   ]
  },
  {
   "cell_type": "code",
   "execution_count": 22,
   "metadata": {},
   "outputs": [],
   "source": [
    "import sys\n",
    "\n",
    "def processImage(infile):\n",
    "    try:\n",
    "        im = Image.open(infile)\n",
    "    except IOError:\n",
    "        print \"Cant load\", infile\n",
    "        sys.exit(1)\n",
    "    i = 0\n",
    "    mypalette = im.getpalette()\n",
    "\n",
    "    try:\n",
    "        while 1:\n",
    "            im.putpalette(mypalette)\n",
    "            new_im = Image.new(\"RGBA\", im.size)\n",
    "            new_im.paste(im)\n",
    "            new_im.save('foo'+str(i)+'.png')\n",
    "\n",
    "            i += 1\n",
    "            im.seek(im.tell() + 1)\n",
    "\n",
    "    except EOFError:\n",
    "        pass # end of sequence\n",
    "\n",
    "processImage('code.gif')"
   ]
  }
 ],
 "metadata": {
  "kernelspec": {
   "display_name": "Python 2",
   "language": "python",
   "name": "python2"
  },
  "language_info": {
   "codemirror_mode": {
    "name": "ipython",
    "version": 2
   },
   "file_extension": ".py",
   "mimetype": "text/x-python",
   "name": "python",
   "nbconvert_exporter": "python",
   "pygments_lexer": "ipython2",
   "version": "2.7.13"
  }
 },
 "nbformat": 4,
 "nbformat_minor": 2
}
