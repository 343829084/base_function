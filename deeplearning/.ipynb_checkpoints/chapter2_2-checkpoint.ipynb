{
 "cells": [
  {
   "cell_type": "code",
   "execution_count": 1,
   "metadata": {},
   "outputs": [],
   "source": [
    "from sklearn.datasets import fetch_20newsgroups"
   ]
  },
  {
   "cell_type": "code",
   "execution_count": 3,
   "metadata": {},
   "outputs": [
    {
     "name": "stderr",
     "output_type": "stream",
     "text": [
      "Downloading 20news dataset. This may take a few minutes.\n",
      "Downloading dataset from https://ndownloader.figshare.com/files/5975967 (14 MB)\n"
     ]
    }
   ],
   "source": [
    "news = fetch_20newsgroups(subset='all')"
   ]
  },
  {
   "cell_type": "code",
   "execution_count": 4,
   "metadata": {},
   "outputs": [
    {
     "name": "stdout",
     "output_type": "stream",
     "text": [
      "18846\n"
     ]
    }
   ],
   "source": [
    "print len(news.data)"
   ]
  },
  {
   "cell_type": "code",
   "execution_count": 6,
   "metadata": {
    "scrolled": true
   },
   "outputs": [
    {
     "data": {
      "text/plain": [
       "['alt.atheism',\n",
       " 'comp.graphics',\n",
       " 'comp.os.ms-windows.misc',\n",
       " 'comp.sys.ibm.pc.hardware',\n",
       " 'comp.sys.mac.hardware',\n",
       " 'comp.windows.x',\n",
       " 'misc.forsale',\n",
       " 'rec.autos',\n",
       " 'rec.motorcycles',\n",
       " 'rec.sport.baseball',\n",
       " 'rec.sport.hockey',\n",
       " 'sci.crypt',\n",
       " 'sci.electronics',\n",
       " 'sci.med',\n",
       " 'sci.space',\n",
       " 'soc.religion.christian',\n",
       " 'talk.politics.guns',\n",
       " 'talk.politics.mideast',\n",
       " 'talk.politics.misc',\n",
       " 'talk.religion.misc']"
      ]
     },
     "execution_count": 6,
     "metadata": {},
     "output_type": "execute_result"
    }
   ],
   "source": [
    "news.target_names"
   ]
  },
  {
   "cell_type": "code",
   "execution_count": 9,
   "metadata": {
    "scrolled": true
   },
   "outputs": [
    {
     "name": "stdout",
     "output_type": "stream",
     "text": [
      "From: mblawson@midway.ecn.uoknor.edu (Matthew B Lawson)\n",
      "Subject: Which high-performance VLB video card?\n",
      "Summary: Seek recommendations for VLB video card\n",
      "Nntp-Posting-Host: midway.ecn.uoknor.edu\n",
      "Organization: Engineering Computer Network, University of Oklahoma, Norman, OK, USA\n",
      "Keywords: orchid, stealth, vlb\n",
      "Lines: 21\n",
      "\n",
      "  My brother is in the market for a high-performance video card that supports\n",
      "VESA local bus with 1-2MB RAM.  Does anyone have suggestions/ideas on:\n",
      "\n",
      "  - Diamond Stealth Pro Local Bus\n",
      "\n",
      "  - Orchid Farenheit 1280\n",
      "\n",
      "  - ATI Graphics Ultra Pro\n",
      "\n",
      "  - Any other high-performance VLB card\n",
      "\n",
      "\n",
      "Please post or email.  Thank you!\n",
      "\n",
      "  - Matt\n",
      "\n",
      "-- \n",
      "    |  Matthew B. Lawson <------------> (mblawson@essex.ecn.uoknor.edu)  |   \n",
      "  --+-- \"Now I, Nebuchadnezzar, praise and exalt and glorify the King  --+-- \n",
      "    |   of heaven, because everything he does is right and all his ways  |   \n",
      "    |   are just.\" - Nebuchadnezzar, king of Babylon, 562 B.C.           |   \n",
      "\n"
     ]
    }
   ],
   "source": [
    "print news.data[1]"
   ]
  },
  {
   "cell_type": "code",
   "execution_count": 10,
   "metadata": {},
   "outputs": [
    {
     "name": "stdout",
     "output_type": "stream",
     "text": [
      "comp.graphics\n"
     ]
    }
   ],
   "source": [
    "print news.target_names[1]"
   ]
  },
  {
   "cell_type": "code",
   "execution_count": 11,
   "metadata": {},
   "outputs": [],
   "source": [
    "from sklearn.cross_validation import train_test_split"
   ]
  },
  {
   "cell_type": "code",
   "execution_count": 41,
   "metadata": {},
   "outputs": [],
   "source": [
    "X_train,X_test,y_train,y_test = train_test_split(news.data,news.target,test_size=0.25,random_state=33)"
   ]
  },
  {
   "cell_type": "code",
   "execution_count": 42,
   "metadata": {
    "scrolled": true
   },
   "outputs": [
    {
     "name": "stdout",
     "output_type": "stream",
     "text": [
      "From: scotts@math.orst.edu (Scott Settlemier)\n",
      "Subject: FORSALE: MAG Innovision MX15F 1280x1024\n",
      "Article-I.D.: gaia.1r7hir$9sk\n",
      "Distribution: world\n",
      "Organization: Oregon State University Math Department\n",
      "Lines: 7\n",
      "NNTP-Posting-Host: math.orst.edu\n",
      "\n",
      "MAG Innovision MX15F\n",
      "Fantastic 15\" multiscan monitor that can display up to\n",
      "1280x1024 noninterlaced (!) with .26 mm dot pitch.\n",
      "If you are looking for a large crystal clear super vga\n",
      "monitor then this is for you.\n",
      "$430   call Scott at (503) 757-3483 or\n",
      "email scotts@math.orst.edu\n",
      "\n"
     ]
    }
   ],
   "source": [
    "print X_train[0]"
   ]
  },
  {
   "cell_type": "code",
   "execution_count": 43,
   "metadata": {},
   "outputs": [
    {
     "data": {
      "text/plain": [
       "6"
      ]
     },
     "execution_count": 43,
     "metadata": {},
     "output_type": "execute_result"
    }
   ],
   "source": [
    "y_train[0]"
   ]
  },
  {
   "cell_type": "code",
   "execution_count": 44,
   "metadata": {},
   "outputs": [
    {
     "name": "stdout",
     "output_type": "stream",
     "text": [
      "set([0, 1, 2, 3, 4, 5, 6, 7, 8, 9, 10, 11, 12, 13, 14, 15, 16, 17, 18, 19])\n"
     ]
    }
   ],
   "source": [
    "s=set()\n",
    "for i in y_train:\n",
    "    s.add(i)\n",
    "print s"
   ]
  },
  {
   "cell_type": "code",
   "execution_count": 45,
   "metadata": {},
   "outputs": [],
   "source": [
    "from sklearn.feature_extraction.text import CountVectorizer"
   ]
  },
  {
   "cell_type": "code",
   "execution_count": 46,
   "metadata": {},
   "outputs": [],
   "source": [
    "vec = CountVectorizer()"
   ]
  },
  {
   "cell_type": "code",
   "execution_count": 47,
   "metadata": {},
   "outputs": [],
   "source": [
    "X_train1 = vec.fit_transform(X_train)"
   ]
  },
  {
   "cell_type": "code",
   "execution_count": 48,
   "metadata": {},
   "outputs": [
    {
     "name": "stdout",
     "output_type": "stream",
     "text": [
      "  (0, 60066)\t1\n",
      "  (0, 104942)\t1\n",
      "  (0, 14433)\t1\n",
      "  (0, 22750)\t1\n",
      "  (0, 17937)\t1\n",
      "  (0, 35665)\t1\n",
      "  (0, 44232)\t1\n",
      "  (0, 16311)\t1\n",
      "  (0, 79874)\t1\n",
      "  (0, 132903)\t1\n",
      "  (0, 132665)\t1\n",
      "  (0, 140565)\t1\n",
      "  (0, 129553)\t1\n",
      "  (0, 47467)\t1\n",
      "  (0, 51298)\t1\n",
      "  (0, 87060)\t1\n",
      "  (0, 65719)\t2\n",
      "  (0, 89395)\t1\n",
      "  (0, 34760)\t1\n",
      "  (0, 148646)\t2\n",
      "  (0, 76791)\t1\n",
      "  (0, 109290)\t1\n",
      "  (0, 57011)\t1\n",
      "  (0, 96571)\t1\n",
      "  (0, 11905)\t1\n",
      "  :\t:\n",
      "  (0, 88624)\t1\n",
      "  (0, 54291)\t1\n",
      "  (0, 137926)\t1\n",
      "  (0, 127872)\t1\n",
      "  (0, 105052)\t1\n",
      "  (0, 105079)\t1\n",
      "  (0, 144786)\t1\n",
      "  (0, 56181)\t1\n",
      "  (0, 27541)\t1\n",
      "  (0, 9352)\t1\n",
      "  (0, 67665)\t1\n",
      "  (0, 35136)\t1\n",
      "  (0, 4447)\t2\n",
      "  (0, 99226)\t2\n",
      "  (0, 78632)\t2\n",
      "  (0, 91899)\t2\n",
      "  (0, 65921)\t1\n",
      "  (0, 128977)\t1\n",
      "  (0, 123300)\t1\n",
      "  (0, 122222)\t2\n",
      "  (0, 59188)\t3\n",
      "  (0, 105230)\t3\n",
      "  (0, 93010)\t4\n",
      "  (0, 122236)\t2\n",
      "  (0, 66520)\t1\n"
     ]
    }
   ],
   "source": [
    "for i in X_train1[0]:\n",
    "    print i"
   ]
  },
  {
   "cell_type": "code",
   "execution_count": 49,
   "metadata": {},
   "outputs": [],
   "source": [
    "X_test1 = vec.transform(X_test)"
   ]
  },
  {
   "cell_type": "code",
   "execution_count": 50,
   "metadata": {},
   "outputs": [],
   "source": [
    "from sklearn.naive_bayes import MultinomialNB"
   ]
  },
  {
   "cell_type": "code",
   "execution_count": 51,
   "metadata": {},
   "outputs": [],
   "source": [
    "mnb = MultinomialNB()"
   ]
  },
  {
   "cell_type": "code",
   "execution_count": 52,
   "metadata": {},
   "outputs": [
    {
     "data": {
      "text/plain": [
       "MultinomialNB(alpha=1.0, class_prior=None, fit_prior=True)"
      ]
     },
     "execution_count": 52,
     "metadata": {},
     "output_type": "execute_result"
    }
   ],
   "source": [
    "mnb.fit(X_train1,y_train)"
   ]
  },
  {
   "cell_type": "code",
   "execution_count": 53,
   "metadata": {},
   "outputs": [],
   "source": [
    "y_predict = mnb.predict(X_test1)"
   ]
  },
  {
   "cell_type": "code",
   "execution_count": 54,
   "metadata": {},
   "outputs": [
    {
     "data": {
      "text/plain": [
       "8"
      ]
     },
     "execution_count": 54,
     "metadata": {},
     "output_type": "execute_result"
    }
   ],
   "source": [
    "y_predict[0]"
   ]
  },
  {
   "cell_type": "code",
   "execution_count": 55,
   "metadata": {},
   "outputs": [
    {
     "data": {
      "text/plain": [
       "8"
      ]
     },
     "execution_count": 55,
     "metadata": {},
     "output_type": "execute_result"
    }
   ],
   "source": [
    "y_test[0]"
   ]
  },
  {
   "cell_type": "code",
   "execution_count": 56,
   "metadata": {},
   "outputs": [
    {
     "name": "stdout",
     "output_type": "stream",
     "text": [
      "0.839770797963\n"
     ]
    }
   ],
   "source": [
    "print mnb.score(X_test1,y_test)"
   ]
  },
  {
   "cell_type": "code",
   "execution_count": 57,
   "metadata": {},
   "outputs": [],
   "source": [
    "from sklearn.metrics import classification_report"
   ]
  },
  {
   "cell_type": "code",
   "execution_count": 59,
   "metadata": {},
   "outputs": [
    {
     "name": "stdout",
     "output_type": "stream",
     "text": [
      "                          precision    recall  f1-score   support\n",
      "\n",
      "             alt.atheism       0.86      0.86      0.86       201\n",
      "           comp.graphics       0.86      0.59      0.70       365\n",
      " comp.os.ms-windows.misc       0.10      0.89      0.17        27\n",
      "comp.sys.ibm.pc.hardware       0.88      0.60      0.72       350\n",
      "   comp.sys.mac.hardware       0.78      0.93      0.85       204\n",
      "          comp.windows.x       0.84      0.82      0.83       271\n",
      "            misc.forsale       0.70      0.91      0.79       197\n",
      "               rec.autos       0.89      0.89      0.89       239\n",
      "         rec.motorcycles       0.92      0.98      0.95       257\n",
      "      rec.sport.baseball       0.91      0.98      0.95       233\n",
      "        rec.sport.hockey       0.99      0.93      0.96       248\n",
      "               sci.crypt       0.98      0.86      0.91       272\n",
      "         sci.electronics       0.88      0.85      0.86       259\n",
      "                 sci.med       0.94      0.92      0.93       252\n",
      "               sci.space       0.96      0.89      0.92       239\n",
      "  soc.religion.christian       0.96      0.78      0.86       285\n",
      "      talk.politics.guns       0.96      0.88      0.92       272\n",
      "   talk.politics.mideast       0.98      0.90      0.94       252\n",
      "      talk.politics.misc       0.89      0.79      0.84       214\n",
      "      talk.religion.misc       0.44      0.93      0.60        75\n",
      "\n",
      "             avg / total       0.89      0.84      0.86      4712\n",
      "\n"
     ]
    }
   ],
   "source": [
    "print classification_report(y_predict,y_test,target_names=news.target_names)"
   ]
  }
 ],
 "metadata": {
  "kernelspec": {
   "display_name": "Python 2",
   "language": "python",
   "name": "python2"
  },
  "language_info": {
   "codemirror_mode": {
    "name": "ipython",
    "version": 2
   },
   "file_extension": ".py",
   "mimetype": "text/x-python",
   "name": "python",
   "nbconvert_exporter": "python",
   "pygments_lexer": "ipython2",
   "version": "2.7.13"
  }
 },
 "nbformat": 4,
 "nbformat_minor": 2
}
