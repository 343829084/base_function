{
 "cells": [
  {
   "cell_type": "code",
   "execution_count": 3,
   "metadata": {},
   "outputs": [
    {
     "data": {
      "text/plain": [
       "{u'javascript-frameworks': [u'jQuery', u'Modernizr', u'jQuery UI'],\n",
       " u'programming-languages': [u'Python'],\n",
       " u'web-frameworks': [u'Web2py', u'Twitter Bootstrap'],\n",
       " u'web-servers': [u'Nginx']}"
      ]
     },
     "execution_count": 3,
     "metadata": {},
     "output_type": "execute_result"
    }
   ],
   "source": [
    "import builtwith\n",
    "builtwith.parse('http://example.webscraping.com')"
   ]
  },
  {
   "cell_type": "code",
   "execution_count": 8,
   "metadata": {},
   "outputs": [
    {
     "data": {
      "text/plain": [
       "{u'address': u'No. 18, Kechuang 11 Street,, Beijing E-town Development Area',\n",
       " u'city': u'Beijing',\n",
       " u'country': u'CN',\n",
       " u'creation_date': [datetime.datetime(1992, 9, 29, 4, 0),\n",
       "  datetime.datetime(1992, 9, 28, 21, 0)],\n",
       " u'dnssec': u'unsigned',\n",
       " u'domain_name': [u'JD.COM', u'jd.com'],\n",
       " u'emails': [u'abusecomplaints@markmonitor.com', u'jdym@jd.com'],\n",
       " u'expiration_date': [datetime.datetime(2024, 3, 8, 5, 17, 11),\n",
       "  datetime.datetime(2024, 3, 7, 21, 17, 11)],\n",
       " u'name': u'Domain Admin',\n",
       " u'name_servers': [u'NS1.JDCACHE.COM',\n",
       "  u'NS2.JDCACHE.COM',\n",
       "  u'NS3.JDCACHE.COM',\n",
       "  u'NS4.JDCACHE.COM',\n",
       "  u'ns3.jdcache.com',\n",
       "  u'ns1.jdcache.com',\n",
       "  u'ns4.jdcache.com',\n",
       "  u'ns2.jdcache.com'],\n",
       " u'org': u'BEIJING JINGDONG 360 DU E-COMMERCE LTD.',\n",
       " u'referral_url': None,\n",
       " u'registrar': u'MarkMonitor, Inc.',\n",
       " u'state': u'Beijing',\n",
       " u'status': [u'clientDeleteProhibited https://icann.org/epp#clientDeleteProhibited',\n",
       "  u'clientTransferProhibited https://icann.org/epp#clientTransferProhibited',\n",
       "  u'clientUpdateProhibited https://icann.org/epp#clientUpdateProhibited',\n",
       "  u'serverDeleteProhibited https://icann.org/epp#serverDeleteProhibited',\n",
       "  u'serverTransferProhibited https://icann.org/epp#serverTransferProhibited',\n",
       "  u'serverUpdateProhibited https://icann.org/epp#serverUpdateProhibited',\n",
       "  u'clientUpdateProhibited (https://www.icann.org/epp#clientUpdateProhibited)',\n",
       "  u'clientTransferProhibited (https://www.icann.org/epp#clientTransferProhibited)',\n",
       "  u'clientDeleteProhibited (https://www.icann.org/epp#clientDeleteProhibited)',\n",
       "  u'serverUpdateProhibited (https://www.icann.org/epp#serverUpdateProhibited)',\n",
       "  u'serverTransferProhibited (https://www.icann.org/epp#serverTransferProhibited)',\n",
       "  u'serverDeleteProhibited (https://www.icann.org/epp#serverDeleteProhibited)'],\n",
       " u'updated_date': [datetime.datetime(2016, 9, 27, 12, 6, 30),\n",
       "  datetime.datetime(2016, 9, 26, 21, 8, 59)],\n",
       " u'whois_server': u'whois.markmonitor.com',\n",
       " u'zipcode': u'100176'}"
      ]
     },
     "execution_count": 8,
     "metadata": {},
     "output_type": "execute_result"
    }
   ],
   "source": [
    "import whois\n",
    "whois.whois('jd.com')"
   ]
  },
  {
   "cell_type": "code",
   "execution_count": null,
   "metadata": {},
   "outputs": [],
   "source": []
  }
 ],
 "metadata": {
  "kernelspec": {
   "display_name": "Python 2",
   "language": "python",
   "name": "python2"
  },
  "language_info": {
   "codemirror_mode": {
    "name": "ipython",
    "version": 2
   },
   "file_extension": ".py",
   "mimetype": "text/x-python",
   "name": "python",
   "nbconvert_exporter": "python",
   "pygments_lexer": "ipython2",
   "version": "2.7.13"
  }
 },
 "nbformat": 4,
 "nbformat_minor": 2
}
