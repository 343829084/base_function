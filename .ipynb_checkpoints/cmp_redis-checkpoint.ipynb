{
 "cells": [
  {
   "cell_type": "code",
   "execution_count": 1,
   "metadata": {},
   "outputs": [],
   "source": [
    "import redis"
   ]
  },
  {
   "cell_type": "code",
   "execution_count": 11,
   "metadata": {},
   "outputs": [],
   "source": [
    "r3 = redis.Redis('raspberrypi',db=3)\n",
    "r4 = redis.Redis('raspberrypi',db=4)"
   ]
  },
  {
   "cell_type": "code",
   "execution_count": 12,
   "metadata": {},
   "outputs": [],
   "source": [
    "l3=r3.keys()\n",
    "l4=r4.keys()"
   ]
  },
  {
   "cell_type": "code",
   "execution_count": 13,
   "metadata": {},
   "outputs": [
    {
     "name": "stdout",
     "output_type": "stream",
     "text": [
      "0\n"
     ]
    }
   ],
   "source": [
    "for i in l3:\n",
    "    try:\n",
    "        l4.remove(i)\n",
    "    except:\n",
    "        continue\n",
    "print len(l4)"
   ]
  },
  {
   "cell_type": "code",
   "execution_count": 2,
   "metadata": {},
   "outputs": [],
   "source": [
    "from setting import get_mysql_conn\n",
    "conn = get_mysql_conn('db_rocky',True)"
   ]
  },
  {
   "cell_type": "code",
   "execution_count": 3,
   "metadata": {},
   "outputs": [],
   "source": [
    "cur = conn.cursor()"
   ]
  },
  {
   "cell_type": "code",
   "execution_count": 14,
   "metadata": {},
   "outputs": [],
   "source": [
    "cmd = 'select companyId,positionId,createTime from tb_jobs'\n",
    "cur.execute(cmd)\n",
    "ret = cur.fetchall()"
   ]
  },
  {
   "cell_type": "code",
   "execution_count": 6,
   "metadata": {},
   "outputs": [
    {
     "data": {
      "text/plain": [
       "18593"
      ]
     },
     "execution_count": 6,
     "metadata": {},
     "output_type": "execute_result"
    }
   ],
   "source": [
    "len(ret)"
   ]
  },
  {
   "cell_type": "code",
   "execution_count": 13,
   "metadata": {},
   "outputs": [],
   "source": [
    "import re"
   ]
  },
  {
   "cell_type": "code",
   "execution_count": 18,
   "metadata": {},
   "outputs": [
    {
     "name": "stdout",
     "output_type": "stream",
     "text": [
      "2018-05-26\n",
      "update tb_jobs set createTime = 2018-05-26 where companyId= 49616 and positionId= 1890585; \n",
      "2018-05-26\n",
      "update tb_jobs set createTime = 2018-05-26 where companyId= 49616 and positionId= 2883159; \n",
      "2018-05-26\n",
      "update tb_jobs set createTime = 2018-05-26 where companyId= 49616 and positionId= 3049682; \n",
      "2018-05-26\n",
      "update tb_jobs set createTime = 2018-05-26 where companyId= 202266 and positionId= 3161783; \n",
      "2018-05-26\n",
      "update tb_jobs set createTime = 2018-05-26 where companyId= 49616 and positionId= 2091834; \n",
      "2018-05-26\n",
      "update tb_jobs set createTime = 2018-05-26 where companyId= 202266 and positionId= 4625911; \n",
      "2018-05-26\n",
      "update tb_jobs set createTime = 2018-05-26 where companyId= 61723 and positionId= 3238546; \n",
      "2018-05-26\n",
      "update tb_jobs set createTime = 2018-05-26 where companyId= 104718 and positionId= 4390454; \n",
      "2018-05-26\n",
      "update tb_jobs set createTime = 2018-05-26 where companyId= 49616 and positionId= 2099156; \n",
      "2018-05-26\n",
      "update tb_jobs set createTime = 2018-05-26 where companyId= 202266 and positionId= 4625919; \n",
      "2018-05-26\n",
      "update tb_jobs set createTime = 2018-05-26 where companyId= 61723 and positionId= 3279806; \n",
      "2018-05-26\n",
      "update tb_jobs set createTime = 2018-05-26 where companyId= 104718 and positionId= 3889872; \n",
      "2018-05-26\n",
      "update tb_jobs set createTime = 2018-05-26 where companyId= 202266 and positionId= 4537274; \n",
      "2018-05-26\n",
      "update tb_jobs set createTime = 2018-05-26 where companyId= 61723 and positionId= 3958793; \n",
      "2018-05-26\n",
      "update tb_jobs set createTime = 2018-05-26 where companyId= 70811 and positionId= 4621404; \n",
      "2018-05-26\n",
      "update tb_jobs set createTime = 2018-05-26 where companyId= 7099 and positionId= 4236996; \n",
      "2018-05-26\n",
      "update tb_jobs set createTime = 2018-05-26 where companyId= 7099 and positionId= 4088945; \n",
      "2018-05-26\n",
      "update tb_jobs set createTime = 2018-05-26 where companyId= 202266 and positionId= 3140660; \n",
      "2018-05-26\n",
      "update tb_jobs set createTime = 2018-05-26 where companyId= 7099 and positionId= 4285325; \n",
      "2018-05-26\n",
      "update tb_jobs set createTime = 2018-05-26 where companyId= 61723 and positionId= 4247256; \n",
      "2018-05-26\n",
      "update tb_jobs set createTime = 2018-05-26 where companyId= 70811 and positionId= 4562273; \n",
      "2018-05-26\n",
      "update tb_jobs set createTime = 2018-05-26 where companyId= 7099 and positionId= 4557157; \n",
      "2018-05-26\n",
      "update tb_jobs set createTime = 2018-05-26 where companyId= 129822 and positionId= 2063420; \n",
      "2018-05-26\n",
      "update tb_jobs set createTime = 2018-05-26 where companyId= 29682 and positionId= 4001281; \n",
      "2018-05-26\n",
      "update tb_jobs set createTime = 2018-05-26 where companyId= 7099 and positionId= 4088957; \n",
      "2018-05-26\n",
      "update tb_jobs set createTime = 2018-05-26 where companyId= 99937 and positionId= 3293029; \n",
      "2018-05-26\n",
      "update tb_jobs set createTime = 2018-05-26 where companyId= 7099 and positionId= 4420054; \n",
      "2018-05-26\n",
      "update tb_jobs set createTime = 2018-05-26 where companyId= 61723 and positionId= 2781315; \n",
      "2018-05-26\n",
      "update tb_jobs set createTime = 2018-05-26 where companyId= 70811 and positionId= 4571030; \n",
      "2018-05-26\n",
      "update tb_jobs set createTime = 2018-05-26 where companyId= 7099 and positionId= 4557132; \n",
      "2018-05-26\n",
      "update tb_jobs set createTime = 2018-05-26 where companyId= 129822 and positionId= 4430027; \n",
      "2018-05-26\n",
      "update tb_jobs set createTime = 2018-05-26 where companyId= 29682 and positionId= 4547649; \n",
      "2018-05-26\n",
      "update tb_jobs set createTime = 2018-05-26 where companyId= 78086 and positionId= 3020113; \n",
      "2018-05-26\n",
      "update tb_jobs set createTime = 2018-05-26 where companyId= 7099 and positionId= 4099217; \n",
      "2018-05-26\n",
      "update tb_jobs set createTime = 2018-05-26 where companyId= 99937 and positionId= 4200680; \n",
      "2018-05-26\n",
      "update tb_jobs set createTime = 2018-05-26 where companyId= 7099 and positionId= 4557452; \n",
      "2018-05-26\n",
      "update tb_jobs set createTime = 2018-05-26 where companyId= 61723 and positionId= 2782513; \n",
      "2018-05-26\n",
      "update tb_jobs set createTime = 2018-05-26 where companyId= 70811 and positionId= 3633500; \n",
      "2018-05-26\n",
      "update tb_jobs set createTime = 2018-05-26 where companyId= 7099 and positionId= 4251765; \n",
      "2018-05-26\n",
      "update tb_jobs set createTime = 2018-05-26 where companyId= 129822 and positionId= 1865182; \n",
      "2018-05-26\n",
      "update tb_jobs set createTime = 2018-05-26 where companyId= 29682 and positionId= 4548367; \n",
      "2018-05-26\n",
      "update tb_jobs set createTime = 2018-05-26 where companyId= 78086 and positionId= 2780866; \n",
      "2018-05-26\n",
      "update tb_jobs set createTime = 2018-05-26 where companyId= 7099 and positionId= 4467699; \n",
      "2018-05-26\n",
      "update tb_jobs set createTime = 2018-05-26 where companyId= 99937 and positionId= 4200044; \n",
      "2018-05-26\n",
      "update tb_jobs set createTime = 2018-05-26 where companyId= 7099 and positionId= 4605969; \n",
      "2018-05-26\n",
      "update tb_jobs set createTime = 2018-05-26 where companyId= 61723 and positionId= 4562900; \n",
      "2018-05-26\n",
      "update tb_jobs set createTime = 2018-05-26 where companyId= 7099 and positionId= 4419983; \n",
      "2018-05-26\n",
      "update tb_jobs set createTime = 2018-05-26 where companyId= 129822 and positionId= 4242541; \n",
      "2018-05-26\n",
      "update tb_jobs set createTime = 2018-05-26 where companyId= 29682 and positionId= 4528887; \n",
      "2018-05-26\n",
      "update tb_jobs set createTime = 2018-05-26 where companyId= 78086 and positionId= 3608253; \n",
      "2018-05-26\n",
      "update tb_jobs set createTime = 2018-05-26 where companyId= 7099 and positionId= 4467792; \n",
      "2018-05-26\n",
      "update tb_jobs set createTime = 2018-05-26 where companyId= 99937 and positionId= 4283443; \n",
      "2018-05-26\n",
      "update tb_jobs set createTime = 2018-05-26 where companyId= 7099 and positionId= 4108767; \n",
      "2018-05-26\n",
      "update tb_jobs set createTime = 2018-05-26 where companyId= 64718 and positionId= 2587749; \n",
      "2018-05-26\n",
      "update tb_jobs set createTime = 2018-05-26 where companyId= 171927 and positionId= 4606489; \n",
      "2018-05-26\n",
      "update tb_jobs set createTime = 2018-05-26 where companyId= 171927 and positionId= 3750681; \n",
      "2018-05-26\n",
      "update tb_jobs set createTime = 2018-05-26 where companyId= 171927 and positionId= 4528365; \n",
      "2018-05-26\n",
      "update tb_jobs set createTime = 2018-05-26 where companyId= 3060 and positionId= 4566649; \n",
      "2018-05-26\n",
      "update tb_jobs set createTime = 2018-05-26 where companyId= 7099 and positionId= 2452494; \n",
      "2018-05-26\n",
      "update tb_jobs set createTime = 2018-05-26 where companyId= 129822 and positionId= 2477156; \n",
      "2018-05-26\n",
      "update tb_jobs set createTime = 2018-05-26 where companyId= 29682 and positionId= 4548724; \n",
      "2018-05-26\n",
      "update tb_jobs set createTime = 2018-05-26 where companyId= 78086 and positionId= 4163600; \n",
      "2018-05-26\n",
      "update tb_jobs set createTime = 2018-05-26 where companyId= 7099 and positionId= 4406411; \n",
      "2018-05-26\n",
      "update tb_jobs set createTime = 2018-05-26 where companyId= 99937 and positionId= 4443305; \n",
      "2018-05-26\n",
      "update tb_jobs set createTime = 2018-05-26 where companyId= 7099 and positionId= 4548041; \n",
      "2018-05-26\n",
      "update tb_jobs set createTime = 2018-05-26 where companyId= 64718 and positionId= 1698869; \n",
      "2018-05-26\n",
      "update tb_jobs set createTime = 2018-05-26 where companyId= 171927 and positionId= 4343318; \n",
      "2018-05-26\n",
      "update tb_jobs set createTime = 2018-05-26 where companyId= 171927 and positionId= 4537697; \n",
      "2018-05-26\n",
      "update tb_jobs set createTime = 2018-05-26 where companyId= 15735 and positionId= 4629522; \n",
      "2018-05-26\n",
      "update tb_jobs set createTime = 2018-05-26 where companyId= 171927 and positionId= 4492763; \n",
      "2018-05-26\n",
      "update tb_jobs set createTime = 2018-05-26 where companyId= 142449 and positionId= 3674136; \n",
      "2018-05-26\n",
      "update tb_jobs set createTime = 2018-05-26 where companyId= 171927 and positionId= 4529444; \n",
      "2018-05-26\n",
      "update tb_jobs set createTime = 2018-05-26 where companyId= 3060 and positionId= 4560199; \n",
      "2018-05-26\n",
      "update tb_jobs set createTime = 2018-05-26 where companyId= 7099 and positionId= 4489564; \n",
      "2018-05-26\n",
      "update tb_jobs set createTime = 2018-05-26 where companyId= 129822 and positionId= 3735855; \n",
      "2018-05-26\n",
      "update tb_jobs set createTime = 2018-05-26 where companyId= 29682 and positionId= 4549995; \n",
      "2018-05-26\n",
      "update tb_jobs set createTime = 2018-05-26 where companyId= 78086 and positionId= 4425170; \n",
      "2018-05-26\n",
      "update tb_jobs set createTime = 2018-05-26 where companyId= 7099 and positionId= 4109248; \n",
      "2018-05-26\n",
      "update tb_jobs set createTime = 2018-05-26 where companyId= 64718 and positionId= 1866642; \n",
      "2018-05-26\n",
      "update tb_jobs set createTime = 2018-05-26 where companyId= 171927 and positionId= 4115201; \n",
      "2018-05-26\n",
      "update tb_jobs set createTime = 2018-05-26 where companyId= 171927 and positionId= 4537414; \n",
      "2018-05-26\n",
      "update tb_jobs set createTime = 2018-05-26 where companyId= 15735 and positionId= 4617585; \n",
      "2018-05-26\n",
      "update tb_jobs set createTime = 2018-05-26 where companyId= 171927 and positionId= 4492732; \n",
      "2018-05-26\n",
      "update tb_jobs set createTime = 2018-05-26 where companyId= 142449 and positionId= 4421187; \n",
      "2018-05-26\n",
      "update tb_jobs set createTime = 2018-05-26 where companyId= 171927 and positionId= 4535768; \n",
      "2018-05-26\n",
      "update tb_jobs set createTime = 2018-05-26 where companyId= 3060 and positionId= 4505470; \n",
      "2018-05-26\n",
      "update tb_jobs set createTime = 2018-05-26 where companyId= 7099 and positionId= 4409868; \n",
      "2018-05-26\n",
      "update tb_jobs set createTime = 2018-05-26 where companyId= 29682 and positionId= 4550448; \n",
      "2018-05-26\n",
      "update tb_jobs set createTime = 2018-05-26 where companyId= 149779 and positionId= 4545706; \n",
      "2018-05-26\n",
      "update tb_jobs set createTime = 2018-05-26 where companyId= 146746 and positionId= 4403385; \n",
      "2018-05-26\n",
      "update tb_jobs set createTime = 2018-05-26 where companyId= 7099 and positionId= 3156740; \n",
      "2018-05-26\n",
      "update tb_jobs set createTime = 2018-05-26 where companyId= 149779 and positionId= 4528340; \n",
      "2018-05-26\n",
      "update tb_jobs set createTime = 2018-05-26 where companyId= 171927 and positionId= 3522501; \n",
      "2018-05-26\n",
      "update tb_jobs set createTime = 2018-05-26 where companyId= 64718 and positionId= 1825452; \n",
      "2018-05-26\n",
      "update tb_jobs set createTime = 2018-05-26 where companyId= 171927 and positionId= 3748990; \n",
      "2018-05-26\n",
      "update tb_jobs set createTime = 2018-05-26 where companyId= 171927 and positionId= 4616076; \n",
      "2018-05-26\n",
      "update tb_jobs set createTime = 2018-05-26 where companyId= 171927 and positionId= 4115212; \n",
      "2018-05-26\n",
      "update tb_jobs set createTime = 2018-05-26 where companyId= 171927 and positionId= 4412969; \n",
      "2018-05-26\n",
      "update tb_jobs set createTime = 2018-05-26 where companyId= 15735 and positionId= 4445535; \n"
     ]
    }
   ],
   "source": [
    "for i in ret[:100]:\n",
    "    if len(re.findall('-',i[2]))==4:\n",
    "        d = i[2].split(' ')[0]\n",
    "        print d\n",
    "        update_cmd = 'update tb_jobs set createTime = \\'{}\\' where companyId= {} and positionId= {}; '.format(d,i[0],i[1])\n",
    "        print update_cmd\n",
    "#         cur.execute(update_cmd)\n",
    "# conn.commit()"
   ]
  }
 ],
 "metadata": {
  "kernelspec": {
   "display_name": "Python 2",
   "language": "python",
   "name": "python2"
  },
  "language_info": {
   "codemirror_mode": {
    "name": "ipython",
    "version": 2
   },
   "file_extension": ".py",
   "mimetype": "text/x-python",
   "name": "python",
   "nbconvert_exporter": "python",
   "pygments_lexer": "ipython2",
   "version": "2.7.13"
  }
 },
 "nbformat": 4,
 "nbformat_minor": 2
}
