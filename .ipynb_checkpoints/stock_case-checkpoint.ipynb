{
 "cells": [
  {
   "cell_type": "code",
   "execution_count": 63,
   "metadata": {},
   "outputs": [],
   "source": [
    "#-*coding=utf-8*-"
   ]
  },
  {
   "cell_type": "code",
   "execution_count": 50,
   "metadata": {},
   "outputs": [],
   "source": [
    "%matplotlib inline\n",
    "import matplotlib.pyplot as plt"
   ]
  },
  {
   "cell_type": "code",
   "execution_count": 90,
   "metadata": {},
   "outputs": [],
   "source": [
    "import pandas as pd\n",
    "import tushare as ts\n",
    "\n",
    "# 通过股票代码获取股票数据,这里没有指定开始及结束日期\n",
    "df = ts.get_k_data(\"000725\")"
   ]
  },
  {
   "cell_type": "code",
   "execution_count": 91,
   "metadata": {
    "scrolled": true
   },
   "outputs": [
    {
     "data": {
      "text/html": [
       "<div>\n",
       "<style scoped>\n",
       "    .dataframe tbody tr th:only-of-type {\n",
       "        vertical-align: middle;\n",
       "    }\n",
       "\n",
       "    .dataframe tbody tr th {\n",
       "        vertical-align: top;\n",
       "    }\n",
       "\n",
       "    .dataframe thead th {\n",
       "        text-align: right;\n",
       "    }\n",
       "</style>\n",
       "<table border=\"1\" class=\"dataframe\">\n",
       "  <thead>\n",
       "    <tr style=\"text-align: right;\">\n",
       "      <th></th>\n",
       "      <th>date</th>\n",
       "      <th>open</th>\n",
       "      <th>close</th>\n",
       "      <th>high</th>\n",
       "      <th>low</th>\n",
       "      <th>volume</th>\n",
       "      <th>code</th>\n",
       "    </tr>\n",
       "  </thead>\n",
       "  <tbody>\n",
       "    <tr>\n",
       "      <th>0</th>\n",
       "      <td>2015-09-08</td>\n",
       "      <td>3.053</td>\n",
       "      <td>3.121</td>\n",
       "      <td>3.131</td>\n",
       "      <td>2.974</td>\n",
       "      <td>5075712.0</td>\n",
       "      <td>000725</td>\n",
       "    </tr>\n",
       "    <tr>\n",
       "      <th>1</th>\n",
       "      <td>2015-09-09</td>\n",
       "      <td>3.141</td>\n",
       "      <td>3.190</td>\n",
       "      <td>3.210</td>\n",
       "      <td>3.102</td>\n",
       "      <td>8188394.0</td>\n",
       "      <td>000725</td>\n",
       "    </tr>\n",
       "    <tr>\n",
       "      <th>2</th>\n",
       "      <td>2015-09-10</td>\n",
       "      <td>3.141</td>\n",
       "      <td>3.092</td>\n",
       "      <td>3.151</td>\n",
       "      <td>3.082</td>\n",
       "      <td>4660535.0</td>\n",
       "      <td>000725</td>\n",
       "    </tr>\n",
       "    <tr>\n",
       "      <th>3</th>\n",
       "      <td>2015-09-11</td>\n",
       "      <td>3.102</td>\n",
       "      <td>3.082</td>\n",
       "      <td>3.131</td>\n",
       "      <td>3.053</td>\n",
       "      <td>3262943.0</td>\n",
       "      <td>000725</td>\n",
       "    </tr>\n",
       "    <tr>\n",
       "      <th>4</th>\n",
       "      <td>2015-09-14</td>\n",
       "      <td>3.092</td>\n",
       "      <td>2.885</td>\n",
       "      <td>3.112</td>\n",
       "      <td>2.836</td>\n",
       "      <td>6256065.0</td>\n",
       "      <td>000725</td>\n",
       "    </tr>\n",
       "  </tbody>\n",
       "</table>\n",
       "</div>"
      ],
      "text/plain": [
       "         date   open  close   high    low     volume    code\n",
       "0  2015-09-08  3.053  3.121  3.131  2.974  5075712.0  000725\n",
       "1  2015-09-09  3.141  3.190  3.210  3.102  8188394.0  000725\n",
       "2  2015-09-10  3.141  3.092  3.151  3.082  4660535.0  000725\n",
       "3  2015-09-11  3.102  3.082  3.131  3.053  3262943.0  000725\n",
       "4  2015-09-14  3.092  2.885  3.112  2.836  6256065.0  000725"
      ]
     },
     "execution_count": 91,
     "metadata": {},
     "output_type": "execute_result"
    }
   ],
   "source": [
    "df.head()"
   ]
  },
  {
   "cell_type": "code",
   "execution_count": 92,
   "metadata": {},
   "outputs": [
    {
     "data": {
      "text/html": [
       "<div>\n",
       "<style scoped>\n",
       "    .dataframe tbody tr th:only-of-type {\n",
       "        vertical-align: middle;\n",
       "    }\n",
       "\n",
       "    .dataframe tbody tr th {\n",
       "        vertical-align: top;\n",
       "    }\n",
       "\n",
       "    .dataframe thead th {\n",
       "        text-align: right;\n",
       "    }\n",
       "</style>\n",
       "<table border=\"1\" class=\"dataframe\">\n",
       "  <thead>\n",
       "    <tr style=\"text-align: right;\">\n",
       "      <th></th>\n",
       "      <th>date</th>\n",
       "      <th>open</th>\n",
       "      <th>close</th>\n",
       "      <th>high</th>\n",
       "      <th>low</th>\n",
       "      <th>volume</th>\n",
       "      <th>code</th>\n",
       "    </tr>\n",
       "  </thead>\n",
       "  <tbody>\n",
       "    <tr>\n",
       "      <th>636</th>\n",
       "      <td>2018-04-19</td>\n",
       "      <td>4.68</td>\n",
       "      <td>4.65</td>\n",
       "      <td>4.74</td>\n",
       "      <td>4.61</td>\n",
       "      <td>7142795.0</td>\n",
       "      <td>000725</td>\n",
       "    </tr>\n",
       "    <tr>\n",
       "      <th>637</th>\n",
       "      <td>2018-04-20</td>\n",
       "      <td>4.69</td>\n",
       "      <td>4.49</td>\n",
       "      <td>4.69</td>\n",
       "      <td>4.46</td>\n",
       "      <td>8093295.0</td>\n",
       "      <td>000725</td>\n",
       "    </tr>\n",
       "    <tr>\n",
       "      <th>638</th>\n",
       "      <td>2018-04-23</td>\n",
       "      <td>4.48</td>\n",
       "      <td>4.68</td>\n",
       "      <td>4.68</td>\n",
       "      <td>4.22</td>\n",
       "      <td>13178951.0</td>\n",
       "      <td>000725</td>\n",
       "    </tr>\n",
       "    <tr>\n",
       "      <th>639</th>\n",
       "      <td>2018-04-24</td>\n",
       "      <td>4.55</td>\n",
       "      <td>4.62</td>\n",
       "      <td>4.67</td>\n",
       "      <td>4.51</td>\n",
       "      <td>10597388.0</td>\n",
       "      <td>000725</td>\n",
       "    </tr>\n",
       "    <tr>\n",
       "      <th>640</th>\n",
       "      <td>2018-04-25</td>\n",
       "      <td>4.55</td>\n",
       "      <td>4.49</td>\n",
       "      <td>4.60</td>\n",
       "      <td>4.47</td>\n",
       "      <td>7019066.0</td>\n",
       "      <td>000725</td>\n",
       "    </tr>\n",
       "  </tbody>\n",
       "</table>\n",
       "</div>"
      ],
      "text/plain": [
       "           date  open  close  high   low      volume    code\n",
       "636  2018-04-19  4.68   4.65  4.74  4.61   7142795.0  000725\n",
       "637  2018-04-20  4.69   4.49  4.69  4.46   8093295.0  000725\n",
       "638  2018-04-23  4.48   4.68  4.68  4.22  13178951.0  000725\n",
       "639  2018-04-24  4.55   4.62  4.67  4.51  10597388.0  000725\n",
       "640  2018-04-25  4.55   4.49  4.60  4.47   7019066.0  000725"
      ]
     },
     "execution_count": 92,
     "metadata": {},
     "output_type": "execute_result"
    }
   ],
   "source": [
    "df.tail()"
   ]
  },
  {
   "cell_type": "code",
   "execution_count": 93,
   "metadata": {},
   "outputs": [],
   "source": [
    "df.index = pd.to_datetime(df.date)"
   ]
  },
  {
   "cell_type": "code",
   "execution_count": 94,
   "metadata": {
    "scrolled": true
   },
   "outputs": [
    {
     "data": {
      "text/html": [
       "<div>\n",
       "<style scoped>\n",
       "    .dataframe tbody tr th:only-of-type {\n",
       "        vertical-align: middle;\n",
       "    }\n",
       "\n",
       "    .dataframe tbody tr th {\n",
       "        vertical-align: top;\n",
       "    }\n",
       "\n",
       "    .dataframe thead th {\n",
       "        text-align: right;\n",
       "    }\n",
       "</style>\n",
       "<table border=\"1\" class=\"dataframe\">\n",
       "  <thead>\n",
       "    <tr style=\"text-align: right;\">\n",
       "      <th></th>\n",
       "      <th>date</th>\n",
       "      <th>open</th>\n",
       "      <th>close</th>\n",
       "      <th>high</th>\n",
       "      <th>low</th>\n",
       "      <th>volume</th>\n",
       "      <th>code</th>\n",
       "    </tr>\n",
       "    <tr>\n",
       "      <th>date</th>\n",
       "      <th></th>\n",
       "      <th></th>\n",
       "      <th></th>\n",
       "      <th></th>\n",
       "      <th></th>\n",
       "      <th></th>\n",
       "      <th></th>\n",
       "    </tr>\n",
       "  </thead>\n",
       "  <tbody>\n",
       "    <tr>\n",
       "      <th>2018-04-19</th>\n",
       "      <td>2018-04-19</td>\n",
       "      <td>4.68</td>\n",
       "      <td>4.65</td>\n",
       "      <td>4.74</td>\n",
       "      <td>4.61</td>\n",
       "      <td>7142795.0</td>\n",
       "      <td>000725</td>\n",
       "    </tr>\n",
       "    <tr>\n",
       "      <th>2018-04-20</th>\n",
       "      <td>2018-04-20</td>\n",
       "      <td>4.69</td>\n",
       "      <td>4.49</td>\n",
       "      <td>4.69</td>\n",
       "      <td>4.46</td>\n",
       "      <td>8093295.0</td>\n",
       "      <td>000725</td>\n",
       "    </tr>\n",
       "    <tr>\n",
       "      <th>2018-04-23</th>\n",
       "      <td>2018-04-23</td>\n",
       "      <td>4.48</td>\n",
       "      <td>4.68</td>\n",
       "      <td>4.68</td>\n",
       "      <td>4.22</td>\n",
       "      <td>13178951.0</td>\n",
       "      <td>000725</td>\n",
       "    </tr>\n",
       "    <tr>\n",
       "      <th>2018-04-24</th>\n",
       "      <td>2018-04-24</td>\n",
       "      <td>4.55</td>\n",
       "      <td>4.62</td>\n",
       "      <td>4.67</td>\n",
       "      <td>4.51</td>\n",
       "      <td>10597388.0</td>\n",
       "      <td>000725</td>\n",
       "    </tr>\n",
       "    <tr>\n",
       "      <th>2018-04-25</th>\n",
       "      <td>2018-04-25</td>\n",
       "      <td>4.55</td>\n",
       "      <td>4.49</td>\n",
       "      <td>4.60</td>\n",
       "      <td>4.47</td>\n",
       "      <td>7019066.0</td>\n",
       "      <td>000725</td>\n",
       "    </tr>\n",
       "  </tbody>\n",
       "</table>\n",
       "</div>"
      ],
      "text/plain": [
       "                  date  open  close  high   low      volume    code\n",
       "date                                                               \n",
       "2018-04-19  2018-04-19  4.68   4.65  4.74  4.61   7142795.0  000725\n",
       "2018-04-20  2018-04-20  4.69   4.49  4.69  4.46   8093295.0  000725\n",
       "2018-04-23  2018-04-23  4.48   4.68  4.68  4.22  13178951.0  000725\n",
       "2018-04-24  2018-04-24  4.55   4.62  4.67  4.51  10597388.0  000725\n",
       "2018-04-25  2018-04-25  4.55   4.49  4.60  4.47   7019066.0  000725"
      ]
     },
     "execution_count": 94,
     "metadata": {},
     "output_type": "execute_result"
    }
   ],
   "source": [
    "df.tail()"
   ]
  },
  {
   "cell_type": "code",
   "execution_count": null,
   "metadata": {},
   "outputs": [],
   "source": [
    "# del df['date']"
   ]
  },
  {
   "cell_type": "code",
   "execution_count": 96,
   "metadata": {},
   "outputs": [
    {
     "data": {
      "text/html": [
       "<div>\n",
       "<style scoped>\n",
       "    .dataframe tbody tr th:only-of-type {\n",
       "        vertical-align: middle;\n",
       "    }\n",
       "\n",
       "    .dataframe tbody tr th {\n",
       "        vertical-align: top;\n",
       "    }\n",
       "\n",
       "    .dataframe thead th {\n",
       "        text-align: right;\n",
       "    }\n",
       "</style>\n",
       "<table border=\"1\" class=\"dataframe\">\n",
       "  <thead>\n",
       "    <tr style=\"text-align: right;\">\n",
       "      <th></th>\n",
       "      <th>open</th>\n",
       "      <th>close</th>\n",
       "      <th>high</th>\n",
       "      <th>low</th>\n",
       "      <th>volume</th>\n",
       "      <th>code</th>\n",
       "    </tr>\n",
       "    <tr>\n",
       "      <th>date</th>\n",
       "      <th></th>\n",
       "      <th></th>\n",
       "      <th></th>\n",
       "      <th></th>\n",
       "      <th></th>\n",
       "      <th></th>\n",
       "    </tr>\n",
       "  </thead>\n",
       "  <tbody>\n",
       "    <tr>\n",
       "      <th>2018-04-19</th>\n",
       "      <td>4.68</td>\n",
       "      <td>4.65</td>\n",
       "      <td>4.74</td>\n",
       "      <td>4.61</td>\n",
       "      <td>7142795.0</td>\n",
       "      <td>000725</td>\n",
       "    </tr>\n",
       "    <tr>\n",
       "      <th>2018-04-20</th>\n",
       "      <td>4.69</td>\n",
       "      <td>4.49</td>\n",
       "      <td>4.69</td>\n",
       "      <td>4.46</td>\n",
       "      <td>8093295.0</td>\n",
       "      <td>000725</td>\n",
       "    </tr>\n",
       "    <tr>\n",
       "      <th>2018-04-23</th>\n",
       "      <td>4.48</td>\n",
       "      <td>4.68</td>\n",
       "      <td>4.68</td>\n",
       "      <td>4.22</td>\n",
       "      <td>13178951.0</td>\n",
       "      <td>000725</td>\n",
       "    </tr>\n",
       "    <tr>\n",
       "      <th>2018-04-24</th>\n",
       "      <td>4.55</td>\n",
       "      <td>4.62</td>\n",
       "      <td>4.67</td>\n",
       "      <td>4.51</td>\n",
       "      <td>10597388.0</td>\n",
       "      <td>000725</td>\n",
       "    </tr>\n",
       "    <tr>\n",
       "      <th>2018-04-25</th>\n",
       "      <td>4.55</td>\n",
       "      <td>4.49</td>\n",
       "      <td>4.60</td>\n",
       "      <td>4.47</td>\n",
       "      <td>7019066.0</td>\n",
       "      <td>000725</td>\n",
       "    </tr>\n",
       "  </tbody>\n",
       "</table>\n",
       "</div>"
      ],
      "text/plain": [
       "            open  close  high   low      volume    code\n",
       "date                                                   \n",
       "2018-04-19  4.68   4.65  4.74  4.61   7142795.0  000725\n",
       "2018-04-20  4.69   4.49  4.69  4.46   8093295.0  000725\n",
       "2018-04-23  4.48   4.68  4.68  4.22  13178951.0  000725\n",
       "2018-04-24  4.55   4.62  4.67  4.51  10597388.0  000725\n",
       "2018-04-25  4.55   4.49  4.60  4.47   7019066.0  000725"
      ]
     },
     "execution_count": 96,
     "metadata": {},
     "output_type": "execute_result"
    }
   ],
   "source": [
    "df.tail()"
   ]
  },
  {
   "cell_type": "code",
   "execution_count": 97,
   "metadata": {},
   "outputs": [
    {
     "name": "stderr",
     "output_type": "stream",
     "text": [
      "c:\\python27\\lib\\site-packages\\ipykernel_launcher.py:4: FutureWarning: pd.rolling_mean is deprecated for Series and will be removed in a future version, replace with \n",
      "\tSeries.rolling(window=5,center=False).mean()\n",
      "  after removing the cwd from sys.path.\n",
      "c:\\python27\\lib\\site-packages\\ipykernel_launcher.py:4: FutureWarning: pd.rolling_mean is deprecated for Series and will be removed in a future version, replace with \n",
      "\tSeries.rolling(window=15,center=False).mean()\n",
      "  after removing the cwd from sys.path.\n",
      "c:\\python27\\lib\\site-packages\\ipykernel_launcher.py:4: FutureWarning: pd.rolling_mean is deprecated for Series and will be removed in a future version, replace with \n",
      "\tSeries.rolling(window=50,center=False).mean()\n",
      "  after removing the cwd from sys.path.\n"
     ]
    }
   ],
   "source": [
    "days = [5, 15, 50]\n",
    "for ma in days:\n",
    "    column_name = \"MA{}\".format(ma)\n",
    "    df[column_name] = pd.rolling_mean(df.close, ma)"
   ]
  },
  {
   "cell_type": "code",
   "execution_count": 98,
   "metadata": {},
   "outputs": [
    {
     "data": {
      "text/html": [
       "<div>\n",
       "<style scoped>\n",
       "    .dataframe tbody tr th:only-of-type {\n",
       "        vertical-align: middle;\n",
       "    }\n",
       "\n",
       "    .dataframe tbody tr th {\n",
       "        vertical-align: top;\n",
       "    }\n",
       "\n",
       "    .dataframe thead th {\n",
       "        text-align: right;\n",
       "    }\n",
       "</style>\n",
       "<table border=\"1\" class=\"dataframe\">\n",
       "  <thead>\n",
       "    <tr style=\"text-align: right;\">\n",
       "      <th></th>\n",
       "      <th>open</th>\n",
       "      <th>close</th>\n",
       "      <th>high</th>\n",
       "      <th>low</th>\n",
       "      <th>volume</th>\n",
       "      <th>code</th>\n",
       "      <th>MA5</th>\n",
       "      <th>MA15</th>\n",
       "      <th>MA50</th>\n",
       "    </tr>\n",
       "    <tr>\n",
       "      <th>date</th>\n",
       "      <th></th>\n",
       "      <th></th>\n",
       "      <th></th>\n",
       "      <th></th>\n",
       "      <th></th>\n",
       "      <th></th>\n",
       "      <th></th>\n",
       "      <th></th>\n",
       "      <th></th>\n",
       "    </tr>\n",
       "  </thead>\n",
       "  <tbody>\n",
       "    <tr>\n",
       "      <th>2018-04-19</th>\n",
       "      <td>4.68</td>\n",
       "      <td>4.65</td>\n",
       "      <td>4.74</td>\n",
       "      <td>4.61</td>\n",
       "      <td>7142795.0</td>\n",
       "      <td>000725</td>\n",
       "      <td>4.904</td>\n",
       "      <td>5.131333</td>\n",
       "      <td>5.5108</td>\n",
       "    </tr>\n",
       "    <tr>\n",
       "      <th>2018-04-20</th>\n",
       "      <td>4.69</td>\n",
       "      <td>4.49</td>\n",
       "      <td>4.69</td>\n",
       "      <td>4.46</td>\n",
       "      <td>8093295.0</td>\n",
       "      <td>000725</td>\n",
       "      <td>4.752</td>\n",
       "      <td>5.074667</td>\n",
       "      <td>5.4790</td>\n",
       "    </tr>\n",
       "    <tr>\n",
       "      <th>2018-04-23</th>\n",
       "      <td>4.48</td>\n",
       "      <td>4.68</td>\n",
       "      <td>4.68</td>\n",
       "      <td>4.22</td>\n",
       "      <td>13178951.0</td>\n",
       "      <td>000725</td>\n",
       "      <td>4.672</td>\n",
       "      <td>5.028667</td>\n",
       "      <td>5.4592</td>\n",
       "    </tr>\n",
       "    <tr>\n",
       "      <th>2018-04-24</th>\n",
       "      <td>4.55</td>\n",
       "      <td>4.62</td>\n",
       "      <td>4.67</td>\n",
       "      <td>4.51</td>\n",
       "      <td>10597388.0</td>\n",
       "      <td>000725</td>\n",
       "      <td>4.618</td>\n",
       "      <td>4.982000</td>\n",
       "      <td>5.4380</td>\n",
       "    </tr>\n",
       "    <tr>\n",
       "      <th>2018-04-25</th>\n",
       "      <td>4.55</td>\n",
       "      <td>4.49</td>\n",
       "      <td>4.60</td>\n",
       "      <td>4.47</td>\n",
       "      <td>7019066.0</td>\n",
       "      <td>000725</td>\n",
       "      <td>4.586</td>\n",
       "      <td>4.928000</td>\n",
       "      <td>5.4134</td>\n",
       "    </tr>\n",
       "  </tbody>\n",
       "</table>\n",
       "</div>"
      ],
      "text/plain": [
       "            open  close  high   low      volume    code    MA5      MA15  \\\n",
       "date                                                                       \n",
       "2018-04-19  4.68   4.65  4.74  4.61   7142795.0  000725  4.904  5.131333   \n",
       "2018-04-20  4.69   4.49  4.69  4.46   8093295.0  000725  4.752  5.074667   \n",
       "2018-04-23  4.48   4.68  4.68  4.22  13178951.0  000725  4.672  5.028667   \n",
       "2018-04-24  4.55   4.62  4.67  4.51  10597388.0  000725  4.618  4.982000   \n",
       "2018-04-25  4.55   4.49  4.60  4.47   7019066.0  000725  4.586  4.928000   \n",
       "\n",
       "              MA50  \n",
       "date                \n",
       "2018-04-19  5.5108  \n",
       "2018-04-20  5.4790  \n",
       "2018-04-23  5.4592  \n",
       "2018-04-24  5.4380  \n",
       "2018-04-25  5.4134  "
      ]
     },
     "execution_count": 98,
     "metadata": {},
     "output_type": "execute_result"
    }
   ],
   "source": [
    "df.tail()"
   ]
  },
  {
   "cell_type": "code",
   "execution_count": 99,
   "metadata": {},
   "outputs": [
    {
     "data": {
      "text/html": [
       "<div>\n",
       "<style scoped>\n",
       "    .dataframe tbody tr th:only-of-type {\n",
       "        vertical-align: middle;\n",
       "    }\n",
       "\n",
       "    .dataframe tbody tr th {\n",
       "        vertical-align: top;\n",
       "    }\n",
       "\n",
       "    .dataframe thead th {\n",
       "        text-align: right;\n",
       "    }\n",
       "</style>\n",
       "<table border=\"1\" class=\"dataframe\">\n",
       "  <thead>\n",
       "    <tr style=\"text-align: right;\">\n",
       "      <th></th>\n",
       "      <th>open</th>\n",
       "      <th>close</th>\n",
       "      <th>high</th>\n",
       "      <th>low</th>\n",
       "      <th>volume</th>\n",
       "      <th>code</th>\n",
       "      <th>MA5</th>\n",
       "      <th>MA15</th>\n",
       "      <th>MA50</th>\n",
       "    </tr>\n",
       "    <tr>\n",
       "      <th>date</th>\n",
       "      <th></th>\n",
       "      <th></th>\n",
       "      <th></th>\n",
       "      <th></th>\n",
       "      <th></th>\n",
       "      <th></th>\n",
       "      <th></th>\n",
       "      <th></th>\n",
       "      <th></th>\n",
       "    </tr>\n",
       "  </thead>\n",
       "  <tbody>\n",
       "    <tr>\n",
       "      <th>2015-09-08</th>\n",
       "      <td>3.053</td>\n",
       "      <td>3.121</td>\n",
       "      <td>3.131</td>\n",
       "      <td>2.974</td>\n",
       "      <td>5075712.0</td>\n",
       "      <td>000725</td>\n",
       "      <td>NaN</td>\n",
       "      <td>NaN</td>\n",
       "      <td>NaN</td>\n",
       "    </tr>\n",
       "    <tr>\n",
       "      <th>2015-09-09</th>\n",
       "      <td>3.141</td>\n",
       "      <td>3.190</td>\n",
       "      <td>3.210</td>\n",
       "      <td>3.102</td>\n",
       "      <td>8188394.0</td>\n",
       "      <td>000725</td>\n",
       "      <td>NaN</td>\n",
       "      <td>NaN</td>\n",
       "      <td>NaN</td>\n",
       "    </tr>\n",
       "    <tr>\n",
       "      <th>2015-09-10</th>\n",
       "      <td>3.141</td>\n",
       "      <td>3.092</td>\n",
       "      <td>3.151</td>\n",
       "      <td>3.082</td>\n",
       "      <td>4660535.0</td>\n",
       "      <td>000725</td>\n",
       "      <td>NaN</td>\n",
       "      <td>NaN</td>\n",
       "      <td>NaN</td>\n",
       "    </tr>\n",
       "    <tr>\n",
       "      <th>2015-09-11</th>\n",
       "      <td>3.102</td>\n",
       "      <td>3.082</td>\n",
       "      <td>3.131</td>\n",
       "      <td>3.053</td>\n",
       "      <td>3262943.0</td>\n",
       "      <td>000725</td>\n",
       "      <td>NaN</td>\n",
       "      <td>NaN</td>\n",
       "      <td>NaN</td>\n",
       "    </tr>\n",
       "    <tr>\n",
       "      <th>2015-09-14</th>\n",
       "      <td>3.092</td>\n",
       "      <td>2.885</td>\n",
       "      <td>3.112</td>\n",
       "      <td>2.836</td>\n",
       "      <td>6256065.0</td>\n",
       "      <td>000725</td>\n",
       "      <td>3.074</td>\n",
       "      <td>NaN</td>\n",
       "      <td>NaN</td>\n",
       "    </tr>\n",
       "  </tbody>\n",
       "</table>\n",
       "</div>"
      ],
      "text/plain": [
       "             open  close   high    low     volume    code    MA5  MA15  MA50\n",
       "date                                                                        \n",
       "2015-09-08  3.053  3.121  3.131  2.974  5075712.0  000725    NaN   NaN   NaN\n",
       "2015-09-09  3.141  3.190  3.210  3.102  8188394.0  000725    NaN   NaN   NaN\n",
       "2015-09-10  3.141  3.092  3.151  3.082  4660535.0  000725    NaN   NaN   NaN\n",
       "2015-09-11  3.102  3.082  3.131  3.053  3262943.0  000725    NaN   NaN   NaN\n",
       "2015-09-14  3.092  2.885  3.112  2.836  6256065.0  000725  3.074   NaN   NaN"
      ]
     },
     "execution_count": 99,
     "metadata": {},
     "output_type": "execute_result"
    }
   ],
   "source": [
    "df.head()"
   ]
  },
  {
   "cell_type": "code",
   "execution_count": 100,
   "metadata": {},
   "outputs": [
    {
     "ename": "AttributeError",
     "evalue": "'Series' object has no attribute 'ptc_change'",
     "output_type": "error",
     "traceback": [
      "\u001b[1;31m---------------------------------------------------------------------------\u001b[0m",
      "\u001b[1;31mAttributeError\u001b[0m                            Traceback (most recent call last)",
      "\u001b[1;32m<ipython-input-100-be2c983dcc81>\u001b[0m in \u001b[0;36m<module>\u001b[1;34m()\u001b[0m\n\u001b[1;32m----> 1\u001b[1;33m \u001b[0mdf\u001b[0m\u001b[1;33m.\u001b[0m\u001b[0mclose\u001b[0m\u001b[1;33m.\u001b[0m\u001b[0mptc_change\u001b[0m\u001b[1;33m(\u001b[0m\u001b[1;33m)\u001b[0m\u001b[1;33m\u001b[0m\u001b[0m\n\u001b[0m",
      "\u001b[1;32mc:\\python27\\lib\\site-packages\\pandas\\core\\generic.pyc\u001b[0m in \u001b[0;36m__getattr__\u001b[1;34m(self, name)\u001b[0m\n\u001b[0;32m   3612\u001b[0m             \u001b[1;32mif\u001b[0m \u001b[0mname\u001b[0m \u001b[1;32min\u001b[0m \u001b[0mself\u001b[0m\u001b[1;33m.\u001b[0m\u001b[0m_info_axis\u001b[0m\u001b[1;33m:\u001b[0m\u001b[1;33m\u001b[0m\u001b[0m\n\u001b[0;32m   3613\u001b[0m                 \u001b[1;32mreturn\u001b[0m \u001b[0mself\u001b[0m\u001b[1;33m[\u001b[0m\u001b[0mname\u001b[0m\u001b[1;33m]\u001b[0m\u001b[1;33m\u001b[0m\u001b[0m\n\u001b[1;32m-> 3614\u001b[1;33m             \u001b[1;32mreturn\u001b[0m \u001b[0mobject\u001b[0m\u001b[1;33m.\u001b[0m\u001b[0m__getattribute__\u001b[0m\u001b[1;33m(\u001b[0m\u001b[0mself\u001b[0m\u001b[1;33m,\u001b[0m \u001b[0mname\u001b[0m\u001b[1;33m)\u001b[0m\u001b[1;33m\u001b[0m\u001b[0m\n\u001b[0m\u001b[0;32m   3615\u001b[0m \u001b[1;33m\u001b[0m\u001b[0m\n\u001b[0;32m   3616\u001b[0m     \u001b[1;32mdef\u001b[0m \u001b[0m__setattr__\u001b[0m\u001b[1;33m(\u001b[0m\u001b[0mself\u001b[0m\u001b[1;33m,\u001b[0m \u001b[0mname\u001b[0m\u001b[1;33m,\u001b[0m \u001b[0mvalue\u001b[0m\u001b[1;33m)\u001b[0m\u001b[1;33m:\u001b[0m\u001b[1;33m\u001b[0m\u001b[0m\n",
      "\u001b[1;31mAttributeError\u001b[0m: 'Series' object has no attribute 'ptc_change'"
     ]
    }
   ],
   "source": [
    "df.close.ptc_change()"
   ]
  },
  {
   "cell_type": "code",
   "execution_count": 101,
   "metadata": {},
   "outputs": [
    {
     "data": {
      "text/plain": [
       "date\n",
       "2015-09-08         NaN\n",
       "2015-09-09    0.022108\n",
       "2015-09-10   -0.030721\n",
       "2015-09-11   -0.003234\n",
       "2015-09-14   -0.063920\n",
       "2015-09-15   -0.044367\n",
       "2015-09-16    0.075082\n",
       "2015-09-17   -0.033401\n",
       "2015-09-18    0.003490\n",
       "2015-09-21    0.017391\n",
       "2015-09-22    0.000000\n",
       "2015-09-23   -0.027009\n",
       "2015-09-24    0.010190\n",
       "2015-09-25   -0.027130\n",
       "2015-09-28    0.006793\n",
       "2015-09-29   -0.024503\n",
       "2015-09-30    0.000000\n",
       "2015-10-08    0.032399\n",
       "2015-10-09    0.007052\n",
       "2015-10-12    0.047969\n",
       "2015-10-13   -0.009689\n",
       "2015-10-14   -0.006748\n",
       "2015-10-15    0.023438\n",
       "2015-10-16    0.000000\n",
       "2015-10-19    0.006638\n",
       "2015-10-20    0.006594\n",
       "2015-10-21   -0.051752\n",
       "2015-10-22    0.013472\n",
       "2015-10-23    0.040559\n",
       "2015-10-26   -0.006551\n",
       "                ...   \n",
       "2018-03-13   -0.016502\n",
       "2018-03-14   -0.001678\n",
       "2018-03-15    0.000000\n",
       "2018-03-16   -0.026891\n",
       "2018-03-19    0.006908\n",
       "2018-03-20   -0.012007\n",
       "2018-03-21   -0.001736\n",
       "2018-03-22   -0.012174\n",
       "2018-03-23   -0.038732\n",
       "2018-03-26   -0.003663\n",
       "2018-03-27    0.011029\n",
       "2018-03-28   -0.029091\n",
       "2018-03-29    0.005618\n",
       "2018-03-30   -0.009311\n",
       "2018-04-02   -0.003759\n",
       "2018-04-03   -0.022642\n",
       "2018-04-04   -0.009653\n",
       "2018-04-09   -0.005848\n",
       "2018-04-10    0.027451\n",
       "2018-04-11    0.000000\n",
       "2018-04-12   -0.001908\n",
       "2018-04-13    0.003824\n",
       "2018-04-16   -0.032381\n",
       "2018-04-17   -0.037402\n",
       "2018-04-18   -0.049080\n",
       "2018-04-19    0.000000\n",
       "2018-04-20   -0.034409\n",
       "2018-04-23    0.042316\n",
       "2018-04-24   -0.012821\n",
       "2018-04-25   -0.028139\n",
       "Name: close, Length: 641, dtype: float64"
      ]
     },
     "execution_count": 101,
     "metadata": {},
     "output_type": "execute_result"
    }
   ],
   "source": [
    "df.close.pct_change()"
   ]
  },
  {
   "cell_type": "code",
   "execution_count": 102,
   "metadata": {},
   "outputs": [
    {
     "data": {
      "text/plain": [
       "-0.8234460775633076"
      ]
     },
     "execution_count": 102,
     "metadata": {},
     "output_type": "execute_result"
    }
   ],
   "source": [
    "(11.201-11.294)/11.294*100"
   ]
  },
  {
   "cell_type": "code",
   "execution_count": 103,
   "metadata": {},
   "outputs": [
    {
     "data": {
      "text/plain": [
       "-0.008234460775633076"
      ]
     },
     "execution_count": 103,
     "metadata": {},
     "output_type": "execute_result"
    }
   ],
   "source": [
    "(11.201-11.294)/11.294"
   ]
  },
  {
   "cell_type": "code",
   "execution_count": 104,
   "metadata": {},
   "outputs": [
    {
     "data": {
      "text/plain": [
       "date\n",
       "2015-09-08      NaN\n",
       "2015-09-09    0.069\n",
       "2015-09-10   -0.098\n",
       "2015-09-11   -0.010\n",
       "2015-09-14   -0.197\n",
       "2015-09-15   -0.128\n",
       "2015-09-16    0.207\n",
       "2015-09-17   -0.099\n",
       "2015-09-18    0.010\n",
       "2015-09-21    0.050\n",
       "2015-09-22    0.000\n",
       "2015-09-23   -0.079\n",
       "2015-09-24    0.029\n",
       "2015-09-25   -0.078\n",
       "2015-09-28    0.019\n",
       "2015-09-29   -0.069\n",
       "2015-09-30    0.000\n",
       "2015-10-08    0.089\n",
       "2015-10-09    0.020\n",
       "2015-10-12    0.137\n",
       "2015-10-13   -0.029\n",
       "2015-10-14   -0.020\n",
       "2015-10-15    0.069\n",
       "2015-10-16    0.000\n",
       "2015-10-19    0.020\n",
       "2015-10-20    0.020\n",
       "2015-10-21   -0.158\n",
       "2015-10-22    0.039\n",
       "2015-10-23    0.119\n",
       "2015-10-26   -0.020\n",
       "              ...  \n",
       "2018-03-13   -0.100\n",
       "2018-03-14   -0.010\n",
       "2018-03-15    0.000\n",
       "2018-03-16   -0.160\n",
       "2018-03-19    0.040\n",
       "2018-03-20   -0.070\n",
       "2018-03-21   -0.010\n",
       "2018-03-22   -0.070\n",
       "2018-03-23   -0.220\n",
       "2018-03-26   -0.020\n",
       "2018-03-27    0.060\n",
       "2018-03-28   -0.160\n",
       "2018-03-29    0.030\n",
       "2018-03-30   -0.050\n",
       "2018-04-02   -0.020\n",
       "2018-04-03   -0.120\n",
       "2018-04-04   -0.050\n",
       "2018-04-09   -0.030\n",
       "2018-04-10    0.140\n",
       "2018-04-11    0.000\n",
       "2018-04-12   -0.010\n",
       "2018-04-13    0.020\n",
       "2018-04-16   -0.170\n",
       "2018-04-17   -0.190\n",
       "2018-04-18   -0.240\n",
       "2018-04-19    0.000\n",
       "2018-04-20   -0.160\n",
       "2018-04-23    0.190\n",
       "2018-04-24   -0.060\n",
       "2018-04-25   -0.130\n",
       "Name: close, Length: 641, dtype: float64"
      ]
     },
     "execution_count": 104,
     "metadata": {},
     "output_type": "execute_result"
    }
   ],
   "source": [
    "df.close.diff()"
   ]
  },
  {
   "cell_type": "code",
   "execution_count": 105,
   "metadata": {},
   "outputs": [
    {
     "data": {
      "text/plain": [
       "-0.09299999999999997"
      ]
     },
     "execution_count": 105,
     "metadata": {},
     "output_type": "execute_result"
    }
   ],
   "source": [
    "11.201-11.294"
   ]
  },
  {
   "cell_type": "code",
   "execution_count": 106,
   "metadata": {},
   "outputs": [],
   "source": [
    "import numpy as np"
   ]
  },
  {
   "cell_type": "code",
   "execution_count": 107,
   "metadata": {},
   "outputs": [],
   "source": [
    "a=np.arange(1,20,2)"
   ]
  },
  {
   "cell_type": "code",
   "execution_count": 108,
   "metadata": {},
   "outputs": [
    {
     "data": {
      "text/plain": [
       "array([ 1,  3,  5,  7,  9, 11, 13, 15, 17, 19])"
      ]
     },
     "execution_count": 108,
     "metadata": {},
     "output_type": "execute_result"
    }
   ],
   "source": [
    "a"
   ]
  },
  {
   "cell_type": "code",
   "execution_count": 109,
   "metadata": {},
   "outputs": [],
   "source": [
    "df1 = pd.DataFrame({'A':a,'B':a+1,'C':a+2})"
   ]
  },
  {
   "cell_type": "code",
   "execution_count": 110,
   "metadata": {},
   "outputs": [
    {
     "data": {
      "text/html": [
       "<div>\n",
       "<style scoped>\n",
       "    .dataframe tbody tr th:only-of-type {\n",
       "        vertical-align: middle;\n",
       "    }\n",
       "\n",
       "    .dataframe tbody tr th {\n",
       "        vertical-align: top;\n",
       "    }\n",
       "\n",
       "    .dataframe thead th {\n",
       "        text-align: right;\n",
       "    }\n",
       "</style>\n",
       "<table border=\"1\" class=\"dataframe\">\n",
       "  <thead>\n",
       "    <tr style=\"text-align: right;\">\n",
       "      <th></th>\n",
       "      <th>A</th>\n",
       "      <th>B</th>\n",
       "      <th>C</th>\n",
       "    </tr>\n",
       "  </thead>\n",
       "  <tbody>\n",
       "    <tr>\n",
       "      <th>0</th>\n",
       "      <td>1</td>\n",
       "      <td>2</td>\n",
       "      <td>3</td>\n",
       "    </tr>\n",
       "    <tr>\n",
       "      <th>1</th>\n",
       "      <td>3</td>\n",
       "      <td>4</td>\n",
       "      <td>5</td>\n",
       "    </tr>\n",
       "    <tr>\n",
       "      <th>2</th>\n",
       "      <td>5</td>\n",
       "      <td>6</td>\n",
       "      <td>7</td>\n",
       "    </tr>\n",
       "    <tr>\n",
       "      <th>3</th>\n",
       "      <td>7</td>\n",
       "      <td>8</td>\n",
       "      <td>9</td>\n",
       "    </tr>\n",
       "    <tr>\n",
       "      <th>4</th>\n",
       "      <td>9</td>\n",
       "      <td>10</td>\n",
       "      <td>11</td>\n",
       "    </tr>\n",
       "    <tr>\n",
       "      <th>5</th>\n",
       "      <td>11</td>\n",
       "      <td>12</td>\n",
       "      <td>13</td>\n",
       "    </tr>\n",
       "    <tr>\n",
       "      <th>6</th>\n",
       "      <td>13</td>\n",
       "      <td>14</td>\n",
       "      <td>15</td>\n",
       "    </tr>\n",
       "    <tr>\n",
       "      <th>7</th>\n",
       "      <td>15</td>\n",
       "      <td>16</td>\n",
       "      <td>17</td>\n",
       "    </tr>\n",
       "    <tr>\n",
       "      <th>8</th>\n",
       "      <td>17</td>\n",
       "      <td>18</td>\n",
       "      <td>19</td>\n",
       "    </tr>\n",
       "    <tr>\n",
       "      <th>9</th>\n",
       "      <td>19</td>\n",
       "      <td>20</td>\n",
       "      <td>21</td>\n",
       "    </tr>\n",
       "  </tbody>\n",
       "</table>\n",
       "</div>"
      ],
      "text/plain": [
       "    A   B   C\n",
       "0   1   2   3\n",
       "1   3   4   5\n",
       "2   5   6   7\n",
       "3   7   8   9\n",
       "4   9  10  11\n",
       "5  11  12  13\n",
       "6  13  14  15\n",
       "7  15  16  17\n",
       "8  17  18  19\n",
       "9  19  20  21"
      ]
     },
     "execution_count": 110,
     "metadata": {},
     "output_type": "execute_result"
    }
   ],
   "source": [
    "df1"
   ]
  },
  {
   "cell_type": "code",
   "execution_count": 111,
   "metadata": {},
   "outputs": [
    {
     "data": {
      "text/html": [
       "<div>\n",
       "<style scoped>\n",
       "    .dataframe tbody tr th:only-of-type {\n",
       "        vertical-align: middle;\n",
       "    }\n",
       "\n",
       "    .dataframe tbody tr th {\n",
       "        vertical-align: top;\n",
       "    }\n",
       "\n",
       "    .dataframe thead th {\n",
       "        text-align: right;\n",
       "    }\n",
       "</style>\n",
       "<table border=\"1\" class=\"dataframe\">\n",
       "  <thead>\n",
       "    <tr style=\"text-align: right;\">\n",
       "      <th></th>\n",
       "      <th>A</th>\n",
       "      <th>B</th>\n",
       "      <th>C</th>\n",
       "    </tr>\n",
       "  </thead>\n",
       "  <tbody>\n",
       "    <tr>\n",
       "      <th>0</th>\n",
       "      <td>3.0</td>\n",
       "      <td>4.0</td>\n",
       "      <td>5.0</td>\n",
       "    </tr>\n",
       "    <tr>\n",
       "      <th>1</th>\n",
       "      <td>5.0</td>\n",
       "      <td>6.0</td>\n",
       "      <td>7.0</td>\n",
       "    </tr>\n",
       "    <tr>\n",
       "      <th>2</th>\n",
       "      <td>7.0</td>\n",
       "      <td>8.0</td>\n",
       "      <td>9.0</td>\n",
       "    </tr>\n",
       "    <tr>\n",
       "      <th>3</th>\n",
       "      <td>9.0</td>\n",
       "      <td>10.0</td>\n",
       "      <td>11.0</td>\n",
       "    </tr>\n",
       "    <tr>\n",
       "      <th>4</th>\n",
       "      <td>11.0</td>\n",
       "      <td>12.0</td>\n",
       "      <td>13.0</td>\n",
       "    </tr>\n",
       "    <tr>\n",
       "      <th>5</th>\n",
       "      <td>13.0</td>\n",
       "      <td>14.0</td>\n",
       "      <td>15.0</td>\n",
       "    </tr>\n",
       "    <tr>\n",
       "      <th>6</th>\n",
       "      <td>15.0</td>\n",
       "      <td>16.0</td>\n",
       "      <td>17.0</td>\n",
       "    </tr>\n",
       "    <tr>\n",
       "      <th>7</th>\n",
       "      <td>17.0</td>\n",
       "      <td>18.0</td>\n",
       "      <td>19.0</td>\n",
       "    </tr>\n",
       "    <tr>\n",
       "      <th>8</th>\n",
       "      <td>19.0</td>\n",
       "      <td>20.0</td>\n",
       "      <td>21.0</td>\n",
       "    </tr>\n",
       "    <tr>\n",
       "      <th>9</th>\n",
       "      <td>NaN</td>\n",
       "      <td>NaN</td>\n",
       "      <td>NaN</td>\n",
       "    </tr>\n",
       "  </tbody>\n",
       "</table>\n",
       "</div>"
      ],
      "text/plain": [
       "      A     B     C\n",
       "0   3.0   4.0   5.0\n",
       "1   5.0   6.0   7.0\n",
       "2   7.0   8.0   9.0\n",
       "3   9.0  10.0  11.0\n",
       "4  11.0  12.0  13.0\n",
       "5  13.0  14.0  15.0\n",
       "6  15.0  16.0  17.0\n",
       "7  17.0  18.0  19.0\n",
       "8  19.0  20.0  21.0\n",
       "9   NaN   NaN   NaN"
      ]
     },
     "execution_count": 111,
     "metadata": {},
     "output_type": "execute_result"
    }
   ],
   "source": [
    "df1.shift(-1)"
   ]
  },
  {
   "cell_type": "code",
   "execution_count": 112,
   "metadata": {},
   "outputs": [
    {
     "data": {
      "text/plain": [
       "0     NaN\n",
       "1     1.0\n",
       "2     3.0\n",
       "3     5.0\n",
       "4     7.0\n",
       "5     9.0\n",
       "6    11.0\n",
       "7    13.0\n",
       "8    15.0\n",
       "9    17.0\n",
       "Name: A, dtype: float64"
      ]
     },
     "execution_count": 112,
     "metadata": {},
     "output_type": "execute_result"
    }
   ],
   "source": [
    "df1.A.shift()"
   ]
  },
  {
   "cell_type": "code",
   "execution_count": 113,
   "metadata": {},
   "outputs": [
    {
     "data": {
      "text/html": [
       "<div>\n",
       "<style scoped>\n",
       "    .dataframe tbody tr th:only-of-type {\n",
       "        vertical-align: middle;\n",
       "    }\n",
       "\n",
       "    .dataframe tbody tr th {\n",
       "        vertical-align: top;\n",
       "    }\n",
       "\n",
       "    .dataframe thead th {\n",
       "        text-align: right;\n",
       "    }\n",
       "</style>\n",
       "<table border=\"1\" class=\"dataframe\">\n",
       "  <thead>\n",
       "    <tr style=\"text-align: right;\">\n",
       "      <th></th>\n",
       "      <th>A</th>\n",
       "      <th>B</th>\n",
       "      <th>C</th>\n",
       "    </tr>\n",
       "  </thead>\n",
       "  <tbody>\n",
       "    <tr>\n",
       "      <th>0</th>\n",
       "      <td>3.0</td>\n",
       "      <td>4.0</td>\n",
       "      <td>5.0</td>\n",
       "    </tr>\n",
       "    <tr>\n",
       "      <th>1</th>\n",
       "      <td>5.0</td>\n",
       "      <td>6.0</td>\n",
       "      <td>7.0</td>\n",
       "    </tr>\n",
       "    <tr>\n",
       "      <th>2</th>\n",
       "      <td>7.0</td>\n",
       "      <td>8.0</td>\n",
       "      <td>9.0</td>\n",
       "    </tr>\n",
       "    <tr>\n",
       "      <th>3</th>\n",
       "      <td>9.0</td>\n",
       "      <td>10.0</td>\n",
       "      <td>11.0</td>\n",
       "    </tr>\n",
       "    <tr>\n",
       "      <th>4</th>\n",
       "      <td>11.0</td>\n",
       "      <td>12.0</td>\n",
       "      <td>13.0</td>\n",
       "    </tr>\n",
       "    <tr>\n",
       "      <th>5</th>\n",
       "      <td>13.0</td>\n",
       "      <td>14.0</td>\n",
       "      <td>15.0</td>\n",
       "    </tr>\n",
       "    <tr>\n",
       "      <th>6</th>\n",
       "      <td>15.0</td>\n",
       "      <td>16.0</td>\n",
       "      <td>17.0</td>\n",
       "    </tr>\n",
       "    <tr>\n",
       "      <th>7</th>\n",
       "      <td>17.0</td>\n",
       "      <td>18.0</td>\n",
       "      <td>19.0</td>\n",
       "    </tr>\n",
       "    <tr>\n",
       "      <th>8</th>\n",
       "      <td>19.0</td>\n",
       "      <td>20.0</td>\n",
       "      <td>21.0</td>\n",
       "    </tr>\n",
       "    <tr>\n",
       "      <th>9</th>\n",
       "      <td>NaN</td>\n",
       "      <td>NaN</td>\n",
       "      <td>NaN</td>\n",
       "    </tr>\n",
       "  </tbody>\n",
       "</table>\n",
       "</div>"
      ],
      "text/plain": [
       "      A     B     C\n",
       "0   3.0   4.0   5.0\n",
       "1   5.0   6.0   7.0\n",
       "2   7.0   8.0   9.0\n",
       "3   9.0  10.0  11.0\n",
       "4  11.0  12.0  13.0\n",
       "5  13.0  14.0  15.0\n",
       "6  15.0  16.0  17.0\n",
       "7  17.0  18.0  19.0\n",
       "8  19.0  20.0  21.0\n",
       "9   NaN   NaN   NaN"
      ]
     },
     "execution_count": 113,
     "metadata": {},
     "output_type": "execute_result"
    }
   ],
   "source": [
    "df1.shift(-1)"
   ]
  },
  {
   "cell_type": "code",
   "execution_count": 114,
   "metadata": {},
   "outputs": [],
   "source": [
    "df['pchange']=df['close'].pct_change()"
   ]
  },
  {
   "cell_type": "code",
   "execution_count": 115,
   "metadata": {},
   "outputs": [],
   "source": [
    "df['change']=df['close'].diff()"
   ]
  },
  {
   "cell_type": "code",
   "execution_count": 116,
   "metadata": {},
   "outputs": [
    {
     "data": {
      "text/plain": [
       "<matplotlib.axes._subplots.AxesSubplot at 0x941d8f0>"
      ]
     },
     "execution_count": 116,
     "metadata": {},
     "output_type": "execute_result"
    },
    {
     "data": {
      "image/png": "iVBORw0KGgoAAAANSUhEUgAAA5wAAAH9CAYAAAB2hXMHAAAABHNCSVQICAgIfAhkiAAAAAlwSFlz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\nhgaYDBm42qIAAAAASUVORK5CYII=\n",
      "text/plain": [
       "<matplotlib.figure.Figure at 0x941d870>"
      ]
     },
     "metadata": {},
     "output_type": "display_data"
    }
   ],
   "source": [
    "df[['close','MA50']].plot(figsize=(16,9))"
   ]
  },
  {
   "cell_type": "code",
   "execution_count": 117,
   "metadata": {},
   "outputs": [
    {
     "name": "stdout",
     "output_type": "stream",
     "text": [
      "empty 2015-09-22 00:00:00\n",
      "empty 2015-09-30 00:00:00\n",
      "empty 2015-10-16 00:00:00\n",
      "empty 2015-11-03 00:00:00\n",
      "empty 2015-11-24 00:00:00\n",
      "empty 2015-11-30 00:00:00\n",
      "empty 2015-12-16 00:00:00\n",
      "empty 2015-12-25 00:00:00\n",
      "empty 2016-02-15 00:00:00\n",
      "empty 2016-03-23 00:00:00\n",
      "empty 2016-04-19 00:00:00\n",
      "empty 2016-05-10 00:00:00\n",
      "empty 2016-05-25 00:00:00\n",
      "empty 2016-06-01 00:00:00\n",
      "empty 2016-06-14 00:00:00\n",
      "empty 2016-06-29 00:00:00\n",
      "empty 2016-06-30 00:00:00\n",
      "empty 2016-07-01 00:00:00\n",
      "empty 2016-07-05 00:00:00\n",
      "empty 2016-07-06 00:00:00\n",
      "empty 2016-07-13 00:00:00\n",
      "empty 2016-07-19 00:00:00\n",
      "empty 2016-07-20 00:00:00\n",
      "empty 2016-07-25 00:00:00\n",
      "empty 2016-08-02 00:00:00\n",
      "empty 2016-08-05 00:00:00\n",
      "empty 2016-08-10 00:00:00\n",
      "empty 2016-08-16 00:00:00\n",
      "empty 2016-08-18 00:00:00\n",
      "empty 2016-08-22 00:00:00\n",
      "empty 2016-08-29 00:00:00\n",
      "empty 2016-09-07 00:00:00\n",
      "empty 2016-09-13 00:00:00\n",
      "empty 2016-09-14 00:00:00\n",
      "empty 2016-09-27 00:00:00\n",
      "empty 2016-09-28 00:00:00\n",
      "empty 2016-10-19 00:00:00\n",
      "empty 2016-10-26 00:00:00\n",
      "empty 2016-10-31 00:00:00\n",
      "empty 2016-11-03 00:00:00\n",
      "empty 2016-11-08 00:00:00\n",
      "empty 2016-11-10 00:00:00\n",
      "empty 2016-11-15 00:00:00\n",
      "empty 2016-12-01 00:00:00\n",
      "empty 2016-12-16 00:00:00\n",
      "empty 2016-12-28 00:00:00\n",
      "empty 2017-01-25 00:00:00\n",
      "empty 2017-02-08 00:00:00\n",
      "empty 2017-02-20 00:00:00\n",
      "empty 2017-03-16 00:00:00\n",
      "empty 2017-03-23 00:00:00\n",
      "empty 2017-04-11 00:00:00\n",
      "empty 2017-04-17 00:00:00\n",
      "empty 2017-06-01 00:00:00\n",
      "empty 2017-06-05 00:00:00\n",
      "empty 2017-06-13 00:00:00\n",
      "empty 2017-06-15 00:00:00\n",
      "empty 2017-06-19 00:00:00\n",
      "empty 2017-07-07 00:00:00\n",
      "empty 2017-07-11 00:00:00\n",
      "empty 2017-07-20 00:00:00\n",
      "empty 2017-09-06 00:00:00\n",
      "empty 2017-09-11 00:00:00\n",
      "empty 2017-09-15 00:00:00\n",
      "empty 2017-09-19 00:00:00\n",
      "empty 2017-12-29 00:00:00\n",
      "empty 2018-01-08 00:00:00\n",
      "empty 2018-01-11 00:00:00\n",
      "empty 2018-01-18 00:00:00\n",
      "empty 2018-01-22 00:00:00\n",
      "empty 2018-02-14 00:00:00\n",
      "empty 2018-03-15 00:00:00\n",
      "empty 2018-04-11 00:00:00\n",
      "empty 2018-04-19 00:00:00\n"
     ]
    }
   ],
   "source": [
    "for date in df.index:\n",
    "#     print(date\n",)
    "    if not df.loc[date]['pchange']:\n",
    "        print('empty',date")
   ]
  },
  {
   "cell_type": "code",
   "execution_count": 118,
   "metadata": {},
   "outputs": [
    {
     "name": "stdout",
     "output_type": "stream",
     "text": [
      "开始时间投资时间: "
     ]
    },
    {
     "ename": "AttributeError",
     "evalue": "'Series' object has no attribute 'date'",
     "output_type": "error",
     "traceback": [
      "\u001b[1;31m---------------------------------------------------------------------------\u001b[0m",
      "\u001b[1;31mAttributeError\u001b[0m                            Traceback (most recent call last)",
      "\u001b[1;32m<ipython-input-118-8c0c82630754>\u001b[0m in \u001b[0;36m<module>\u001b[1;34m()\u001b[0m\n\u001b[0;32m     26\u001b[0m     \u001b[0mposition\u001b[0m \u001b[1;33m=\u001b[0m \u001b[1;36m0\u001b[0m\u001b[1;33m\u001b[0m\u001b[0m\n\u001b[0;32m     27\u001b[0m \u001b[1;33m\u001b[0m\u001b[0m\n\u001b[1;32m---> 28\u001b[1;33m \u001b[1;32mprint\u001b[0m \u001b[1;34mu\"开始时间投资时间: \"\u001b[0m\u001b[1;33m,\u001b[0m \u001b[0mdf\u001b[0m\u001b[1;33m.\u001b[0m\u001b[0miloc\u001b[0m\u001b[1;33m[\u001b[0m\u001b[1;36m0\u001b[0m\u001b[1;33m]\u001b[0m\u001b[1;33m.\u001b[0m\u001b[0mdate\u001b[0m\u001b[1;33m\u001b[0m\u001b[0m\n\u001b[0m\u001b[0;32m     29\u001b[0m \u001b[1;32mfor\u001b[0m \u001b[0mdate\u001b[0m \u001b[1;32min\u001b[0m \u001b[0mdf\u001b[0m\u001b[1;33m.\u001b[0m\u001b[0mindex\u001b[0m\u001b[1;33m:\u001b[0m\u001b[1;33m\u001b[0m\u001b[0m\n\u001b[0;32m     30\u001b[0m     \u001b[0mbar\u001b[0m \u001b[1;33m=\u001b[0m \u001b[0mdf\u001b[0m\u001b[1;33m.\u001b[0m\u001b[0mloc\u001b[0m\u001b[1;33m[\u001b[0m\u001b[0mdate\u001b[0m\u001b[1;33m]\u001b[0m\u001b[1;33m\u001b[0m\u001b[0m\n",
      "\u001b[1;32mc:\\python27\\lib\\site-packages\\pandas\\core\\generic.pyc\u001b[0m in \u001b[0;36m__getattr__\u001b[1;34m(self, name)\u001b[0m\n\u001b[0;32m   3612\u001b[0m             \u001b[1;32mif\u001b[0m \u001b[0mname\u001b[0m \u001b[1;32min\u001b[0m \u001b[0mself\u001b[0m\u001b[1;33m.\u001b[0m\u001b[0m_info_axis\u001b[0m\u001b[1;33m:\u001b[0m\u001b[1;33m\u001b[0m\u001b[0m\n\u001b[0;32m   3613\u001b[0m                 \u001b[1;32mreturn\u001b[0m \u001b[0mself\u001b[0m\u001b[1;33m[\u001b[0m\u001b[0mname\u001b[0m\u001b[1;33m]\u001b[0m\u001b[1;33m\u001b[0m\u001b[0m\n\u001b[1;32m-> 3614\u001b[1;33m             \u001b[1;32mreturn\u001b[0m \u001b[0mobject\u001b[0m\u001b[1;33m.\u001b[0m\u001b[0m__getattribute__\u001b[0m\u001b[1;33m(\u001b[0m\u001b[0mself\u001b[0m\u001b[1;33m,\u001b[0m \u001b[0mname\u001b[0m\u001b[1;33m)\u001b[0m\u001b[1;33m\u001b[0m\u001b[0m\n\u001b[0m\u001b[0;32m   3615\u001b[0m \u001b[1;33m\u001b[0m\u001b[0m\n\u001b[0;32m   3616\u001b[0m     \u001b[1;32mdef\u001b[0m \u001b[0m__setattr__\u001b[0m\u001b[1;33m(\u001b[0m\u001b[0mself\u001b[0m\u001b[1;33m,\u001b[0m \u001b[0mname\u001b[0m\u001b[1;33m,\u001b[0m \u001b[0mvalue\u001b[0m\u001b[1;33m)\u001b[0m\u001b[1;33m:\u001b[0m\u001b[1;33m\u001b[0m\u001b[0m\n",
      "\u001b[1;31mAttributeError\u001b[0m: 'Series' object has no attribute 'date'"
     ]
    }
   ],
   "source": [
    "# 设定回撤值\n",
    "withdraw = 0.03\n",
    "# 设定突破值\n",
    "breakthrough = 0.03\n",
    "# 设定账户资金\n",
    "account = 1000000\n",
    "origin_account = 1000000\n",
    "\n",
    "# 持有仓位手数\n",
    "position = 0\n",
    "\n",
    "def buy(bar):\n",
    "    global account, position\n",
    "    print( \"{}: buy {}\".format(bar.date, bar.close)\n",)
    "    # 一手价格\n",
    "    one = bar.close * 100\n",
    "    position = account // one\n",
    "    account = account - (position * one)\n",
    "\n",
    "def sell(bar):\n",
    "    global account, position\n",
    "    # 一手价格\n",
    "    print(\"{}: sell {}\".format(bar.date, bar.close)\n",)
    "    one = bar.close * 100\n",
    "    account += position * one\n",
    "    position = 0\n",
    "\n",
    "print(u\"开始时间投资时间: \", df.iloc[0].date\n",)
    "for date in df.index:\n",
    "    bar = df.loc[date]\n",
    "    if bar.pchange and bar.pchange > breakthrough and position == 0:\n",
    "        buy(bar)\n",
    "    elif bar.pchange and bar.pchange < withdraw and position > 0:\n",
    "        sell(bar)\n",
    "\n",
    "print(u\"最终可有现金: \", account\n",)
    "print(u\"最终持有市值: \", position * df.iloc[-1].close * 100\n",)
    "print(u\"收益率\", round((account-origin_account)/origin_account*100,2)")
   ]
  },
  {
   "cell_type": "code",
   "execution_count": null,
   "metadata": {},
   "outputs": [],
   "source": [
    "df.iloc[0]"
   ]
  },
  {
   "cell_type": "code",
   "execution_count": 119,
   "metadata": {},
   "outputs": [
    {
     "ename": "KeyError",
     "evalue": "u'the label [2014-01-21] is not in the [index]'",
     "output_type": "error",
     "traceback": [
      "\u001b[1;31m---------------------------------------------------------------------------\u001b[0m",
      "\u001b[1;31mKeyError\u001b[0m                                  Traceback (most recent call last)",
      "\u001b[1;32m<ipython-input-119-1a111a928b32>\u001b[0m in \u001b[0;36m<module>\u001b[1;34m()\u001b[0m\n\u001b[1;32m----> 1\u001b[1;33m \u001b[0mtype\u001b[0m\u001b[1;33m(\u001b[0m\u001b[0mdf\u001b[0m\u001b[1;33m.\u001b[0m\u001b[0mloc\u001b[0m\u001b[1;33m[\u001b[0m\u001b[1;34m'2014-01-21'\u001b[0m\u001b[1;33m]\u001b[0m\u001b[1;33m)\u001b[0m\u001b[1;33m\u001b[0m\u001b[0m\n\u001b[0m",
      "\u001b[1;32mc:\\python27\\lib\\site-packages\\pandas\\core\\indexing.pyc\u001b[0m in \u001b[0;36m__getitem__\u001b[1;34m(self, key)\u001b[0m\n\u001b[0;32m   1371\u001b[0m \u001b[1;33m\u001b[0m\u001b[0m\n\u001b[0;32m   1372\u001b[0m             \u001b[0mmaybe_callable\u001b[0m \u001b[1;33m=\u001b[0m \u001b[0mcom\u001b[0m\u001b[1;33m.\u001b[0m\u001b[0m_apply_if_callable\u001b[0m\u001b[1;33m(\u001b[0m\u001b[0mkey\u001b[0m\u001b[1;33m,\u001b[0m \u001b[0mself\u001b[0m\u001b[1;33m.\u001b[0m\u001b[0mobj\u001b[0m\u001b[1;33m)\u001b[0m\u001b[1;33m\u001b[0m\u001b[0m\n\u001b[1;32m-> 1373\u001b[1;33m             \u001b[1;32mreturn\u001b[0m \u001b[0mself\u001b[0m\u001b[1;33m.\u001b[0m\u001b[0m_getitem_axis\u001b[0m\u001b[1;33m(\u001b[0m\u001b[0mmaybe_callable\u001b[0m\u001b[1;33m,\u001b[0m \u001b[0maxis\u001b[0m\u001b[1;33m=\u001b[0m\u001b[0maxis\u001b[0m\u001b[1;33m)\u001b[0m\u001b[1;33m\u001b[0m\u001b[0m\n\u001b[0m\u001b[0;32m   1374\u001b[0m \u001b[1;33m\u001b[0m\u001b[0m\n\u001b[0;32m   1375\u001b[0m     \u001b[1;32mdef\u001b[0m \u001b[0m_is_scalar_access\u001b[0m\u001b[1;33m(\u001b[0m\u001b[0mself\u001b[0m\u001b[1;33m,\u001b[0m \u001b[0mkey\u001b[0m\u001b[1;33m)\u001b[0m\u001b[1;33m:\u001b[0m\u001b[1;33m\u001b[0m\u001b[0m\n",
      "\u001b[1;32mc:\\python27\\lib\\site-packages\\pandas\\core\\indexing.pyc\u001b[0m in \u001b[0;36m_getitem_axis\u001b[1;34m(self, key, axis)\u001b[0m\n\u001b[0;32m   1624\u001b[0m \u001b[1;33m\u001b[0m\u001b[0m\n\u001b[0;32m   1625\u001b[0m         \u001b[1;31m# fall thru to straight lookup\u001b[0m\u001b[1;33m\u001b[0m\u001b[1;33m\u001b[0m\u001b[0m\n\u001b[1;32m-> 1626\u001b[1;33m         \u001b[0mself\u001b[0m\u001b[1;33m.\u001b[0m\u001b[0m_has_valid_type\u001b[0m\u001b[1;33m(\u001b[0m\u001b[0mkey\u001b[0m\u001b[1;33m,\u001b[0m \u001b[0maxis\u001b[0m\u001b[1;33m)\u001b[0m\u001b[1;33m\u001b[0m\u001b[0m\n\u001b[0m\u001b[0;32m   1627\u001b[0m         \u001b[1;32mreturn\u001b[0m \u001b[0mself\u001b[0m\u001b[1;33m.\u001b[0m\u001b[0m_get_label\u001b[0m\u001b[1;33m(\u001b[0m\u001b[0mkey\u001b[0m\u001b[1;33m,\u001b[0m \u001b[0maxis\u001b[0m\u001b[1;33m=\u001b[0m\u001b[0maxis\u001b[0m\u001b[1;33m)\u001b[0m\u001b[1;33m\u001b[0m\u001b[0m\n\u001b[0;32m   1628\u001b[0m \u001b[1;33m\u001b[0m\u001b[0m\n",
      "\u001b[1;32mc:\\python27\\lib\\site-packages\\pandas\\core\\indexing.pyc\u001b[0m in \u001b[0;36m_has_valid_type\u001b[1;34m(self, key, axis)\u001b[0m\n\u001b[0;32m   1512\u001b[0m                 \u001b[1;32mraise\u001b[0m\u001b[1;33m\u001b[0m\u001b[0m\n\u001b[0;32m   1513\u001b[0m             \u001b[1;32mexcept\u001b[0m\u001b[1;33m:\u001b[0m\u001b[1;33m\u001b[0m\u001b[0m\n\u001b[1;32m-> 1514\u001b[1;33m                 \u001b[0merror\u001b[0m\u001b[1;33m(\u001b[0m\u001b[1;33m)\u001b[0m\u001b[1;33m\u001b[0m\u001b[0m\n\u001b[0m\u001b[0;32m   1515\u001b[0m \u001b[1;33m\u001b[0m\u001b[0m\n\u001b[0;32m   1516\u001b[0m         \u001b[1;32mreturn\u001b[0m \u001b[0mTrue\u001b[0m\u001b[1;33m\u001b[0m\u001b[0m\n",
      "\u001b[1;32mc:\\python27\\lib\\site-packages\\pandas\\core\\indexing.pyc\u001b[0m in \u001b[0;36merror\u001b[1;34m()\u001b[0m\n\u001b[0;32m   1499\u001b[0m                 raise KeyError(u\"the label [{key}] is not in the [{axis}]\"\n\u001b[0;32m   1500\u001b[0m                                .format(key=key,\n\u001b[1;32m-> 1501\u001b[1;33m                                        axis=self.obj._get_axis_name(axis)))\n\u001b[0m\u001b[0;32m   1502\u001b[0m \u001b[1;33m\u001b[0m\u001b[0m\n\u001b[0;32m   1503\u001b[0m             \u001b[1;32mtry\u001b[0m\u001b[1;33m:\u001b[0m\u001b[1;33m\u001b[0m\u001b[0m\n",
      "\u001b[1;31mKeyError\u001b[0m: u'the label [2014-01-21] is not in the [index]'"
     ]
    }
   ],
   "source": [
    "type(df.loc['2014-01-21'])"
   ]
  },
  {
   "cell_type": "code",
   "execution_count": 71,
   "metadata": {},
   "outputs": [
    {
     "data": {
      "text/plain": [
       "11.294"
      ]
     },
     "execution_count": 71,
     "metadata": {},
     "output_type": "execute_result"
    }
   ],
   "source": [
    "df.loc['2014-01-21'].close"
   ]
  },
  {
   "cell_type": "code",
   "execution_count": 75,
   "metadata": {},
   "outputs": [
    {
     "data": {
      "text/plain": [
       "Timestamp('2014-01-21 00:00:00')"
      ]
     },
     "execution_count": 75,
     "metadata": {},
     "output_type": "execute_result"
    }
   ],
   "source": [
    "df.loc['2014-01-21']"
   ]
  },
  {
   "cell_type": "code",
   "execution_count": null,
   "metadata": {},
   "outputs": [],
   "source": []
  }
 ],
 "metadata": {
  "kernelspec": {
   "display_name": "Python 2",
   "language": "python",
   "name": "python2"
  },
  "language_info": {
   "codemirror_mode": {
    "name": "ipython",
    "version": 2
   },
   "file_extension": ".py",
   "mimetype": "text/x-python",
   "name": "python",
   "nbconvert_exporter": "python",
   "pygments_lexer": "ipython2",
   "version": "2.7.13"
  }
 },
 "nbformat": 4,
 "nbformat_minor": 2
}
